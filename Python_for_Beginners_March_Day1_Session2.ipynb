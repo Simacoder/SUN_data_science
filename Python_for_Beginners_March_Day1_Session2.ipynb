{
  "cells": [
    {
      "cell_type": "code",
      "execution_count": 1,
      "metadata": {
        "id": "LPUxRvlxuU1x"
      },
      "outputs": [],
      "source": [
        "#These are libraries that you should import if needed for your notebook.\n",
        "#import libraries\n",
        "import pandas as pd\n",
        "import seaborn as sns\n",
        "import numpy as np\n",
        "%matplotlib inline\n",
        "import matplotlib.pyplot as plots\n",
        "plots.style.use('fivethirtyeight')\n",
        "#from google.colab import files"
      ]
    },
    {
      "cell_type": "markdown",
      "metadata": {
        "id": "aYWWgg-LO2Bh"
      },
      "source": [
        "# Tables"
      ]
    },
    {
      "cell_type": "code",
      "execution_count": null,
      "metadata": {
        "id": "b0IFgs5-YNEX"
      },
      "outputs": [],
      "source": [
        "#Upload file\n",
        "# i'm runnin it locally so i don't need to upload the file"
      ]
    },
    {
      "cell_type": "code",
      "execution_count": null,
      "metadata": {
        "id": "URSmmS9IZTCh"
      },
      "outputs": [
        {
          "data": {
            "application/vnd.microsoft.datawrangler.viewer.v0+json": {
              "columns": [
                {
                  "name": "index",
                  "rawType": "int64",
                  "type": "integer"
                },
                {
                  "name": "Rank",
                  "rawType": "int64",
                  "type": "integer"
                },
                {
                  "name": "Country",
                  "rawType": "object",
                  "type": "string"
                },
                {
                  "name": "Country Code",
                  "rawType": "object",
                  "type": "string"
                },
                {
                  "name": "Continent",
                  "rawType": "object",
                  "type": "string"
                },
                {
                  "name": "Gold",
                  "rawType": "int64",
                  "type": "integer"
                },
                {
                  "name": "Silver",
                  "rawType": "int64",
                  "type": "integer"
                },
                {
                  "name": "Bronze",
                  "rawType": "int64",
                  "type": "integer"
                },
                {
                  "name": "Total",
                  "rawType": "int64",
                  "type": "integer"
                },
                {
                  "name": "Population",
                  "rawType": "float64",
                  "type": "float"
                },
                {
                  "name": "GDP per capita (current US$)",
                  "rawType": "float64",
                  "type": "float"
                }
              ],
              "conversionMethod": "pd.DataFrame",
              "ref": "906ae814-3cfa-4f15-a760-a9ae59f590c7",
              "rows": [
                [
                  "0",
                  "1",
                  "United States",
                  "US",
                  "North America",
                  "40",
                  "44",
                  "42",
                  "126",
                  "334914895.0",
                  "71972.64137"
                ],
                [
                  "1",
                  "2",
                  "China",
                  "CHN",
                  "Asia",
                  "40",
                  "27",
                  "24",
                  "91",
                  "1410710000.0",
                  "11689.34581"
                ],
                [
                  "2",
                  "3",
                  "Japan",
                  "JPN",
                  "Asia",
                  "20",
                  "12",
                  "13",
                  "45",
                  "124516650.0",
                  "37673.3847"
                ],
                [
                  "3",
                  "4",
                  "Australia",
                  "AUS",
                  "Oceania",
                  "18",
                  "19",
                  "16",
                  "53",
                  "26638544.0",
                  "59480.90144"
                ],
                [
                  "4",
                  "5",
                  "France",
                  "FRA",
                  "Europe",
                  "16",
                  "26",
                  "22",
                  "64",
                  "68170228.0",
                  "41738.60442"
                ],
                [
                  "5",
                  "6",
                  "Netherlands",
                  "NED",
                  "Europe",
                  "15",
                  "7",
                  "12",
                  "34",
                  "17879488.0",
                  "56585.69168"
                ],
                [
                  "6",
                  "7",
                  "Great Britain",
                  "GBG",
                  "Europe",
                  "14",
                  "22",
                  "29",
                  "65",
                  "66970000.0",
                  "46125.26"
                ],
                [
                  "7",
                  "8",
                  "South Korea",
                  "KOR",
                  "Asia",
                  "13",
                  "9",
                  "10",
                  "32",
                  "51712619.0",
                  "32853.0586"
                ],
                [
                  "8",
                  "9",
                  "Italy",
                  "ITA",
                  "Europe",
                  "12",
                  "13",
                  "15",
                  "40",
                  "58761146.0",
                  "35095.94639"
                ],
                [
                  "9",
                  "10",
                  "Germany",
                  "GER",
                  "Europe",
                  "12",
                  "13",
                  "8",
                  "33",
                  "84482267.0",
                  "49289.02237"
                ]
              ],
              "shape": {
                "columns": 10,
                "rows": 10
              }
            },
            "text/html": [
              "<div>\n",
              "<style scoped>\n",
              "    .dataframe tbody tr th:only-of-type {\n",
              "        vertical-align: middle;\n",
              "    }\n",
              "\n",
              "    .dataframe tbody tr th {\n",
              "        vertical-align: top;\n",
              "    }\n",
              "\n",
              "    .dataframe thead th {\n",
              "        text-align: right;\n",
              "    }\n",
              "</style>\n",
              "<table border=\"1\" class=\"dataframe\">\n",
              "  <thead>\n",
              "    <tr style=\"text-align: right;\">\n",
              "      <th></th>\n",
              "      <th>Rank</th>\n",
              "      <th>Country</th>\n",
              "      <th>Country Code</th>\n",
              "      <th>Continent</th>\n",
              "      <th>Gold</th>\n",
              "      <th>Silver</th>\n",
              "      <th>Bronze</th>\n",
              "      <th>Total</th>\n",
              "      <th>Population</th>\n",
              "      <th>GDP per capita (current US$)</th>\n",
              "    </tr>\n",
              "  </thead>\n",
              "  <tbody>\n",
              "    <tr>\n",
              "      <th>0</th>\n",
              "      <td>1</td>\n",
              "      <td>United States</td>\n",
              "      <td>US</td>\n",
              "      <td>North America</td>\n",
              "      <td>40</td>\n",
              "      <td>44</td>\n",
              "      <td>42</td>\n",
              "      <td>126</td>\n",
              "      <td>3.349149e+08</td>\n",
              "      <td>71972.64137</td>\n",
              "    </tr>\n",
              "    <tr>\n",
              "      <th>1</th>\n",
              "      <td>2</td>\n",
              "      <td>China</td>\n",
              "      <td>CHN</td>\n",
              "      <td>Asia</td>\n",
              "      <td>40</td>\n",
              "      <td>27</td>\n",
              "      <td>24</td>\n",
              "      <td>91</td>\n",
              "      <td>1.410710e+09</td>\n",
              "      <td>11689.34581</td>\n",
              "    </tr>\n",
              "    <tr>\n",
              "      <th>2</th>\n",
              "      <td>3</td>\n",
              "      <td>Japan</td>\n",
              "      <td>JPN</td>\n",
              "      <td>Asia</td>\n",
              "      <td>20</td>\n",
              "      <td>12</td>\n",
              "      <td>13</td>\n",
              "      <td>45</td>\n",
              "      <td>1.245166e+08</td>\n",
              "      <td>37673.38470</td>\n",
              "    </tr>\n",
              "    <tr>\n",
              "      <th>3</th>\n",
              "      <td>4</td>\n",
              "      <td>Australia</td>\n",
              "      <td>AUS</td>\n",
              "      <td>Oceania</td>\n",
              "      <td>18</td>\n",
              "      <td>19</td>\n",
              "      <td>16</td>\n",
              "      <td>53</td>\n",
              "      <td>2.663854e+07</td>\n",
              "      <td>59480.90144</td>\n",
              "    </tr>\n",
              "    <tr>\n",
              "      <th>4</th>\n",
              "      <td>5</td>\n",
              "      <td>France</td>\n",
              "      <td>FRA</td>\n",
              "      <td>Europe</td>\n",
              "      <td>16</td>\n",
              "      <td>26</td>\n",
              "      <td>22</td>\n",
              "      <td>64</td>\n",
              "      <td>6.817023e+07</td>\n",
              "      <td>41738.60442</td>\n",
              "    </tr>\n",
              "    <tr>\n",
              "      <th>5</th>\n",
              "      <td>6</td>\n",
              "      <td>Netherlands</td>\n",
              "      <td>NED</td>\n",
              "      <td>Europe</td>\n",
              "      <td>15</td>\n",
              "      <td>7</td>\n",
              "      <td>12</td>\n",
              "      <td>34</td>\n",
              "      <td>1.787949e+07</td>\n",
              "      <td>56585.69168</td>\n",
              "    </tr>\n",
              "    <tr>\n",
              "      <th>6</th>\n",
              "      <td>7</td>\n",
              "      <td>Great Britain</td>\n",
              "      <td>GBG</td>\n",
              "      <td>Europe</td>\n",
              "      <td>14</td>\n",
              "      <td>22</td>\n",
              "      <td>29</td>\n",
              "      <td>65</td>\n",
              "      <td>6.697000e+07</td>\n",
              "      <td>46125.26000</td>\n",
              "    </tr>\n",
              "    <tr>\n",
              "      <th>7</th>\n",
              "      <td>8</td>\n",
              "      <td>South Korea</td>\n",
              "      <td>KOR</td>\n",
              "      <td>Asia</td>\n",
              "      <td>13</td>\n",
              "      <td>9</td>\n",
              "      <td>10</td>\n",
              "      <td>32</td>\n",
              "      <td>5.171262e+07</td>\n",
              "      <td>32853.05860</td>\n",
              "    </tr>\n",
              "    <tr>\n",
              "      <th>8</th>\n",
              "      <td>9</td>\n",
              "      <td>Italy</td>\n",
              "      <td>ITA</td>\n",
              "      <td>Europe</td>\n",
              "      <td>12</td>\n",
              "      <td>13</td>\n",
              "      <td>15</td>\n",
              "      <td>40</td>\n",
              "      <td>5.876115e+07</td>\n",
              "      <td>35095.94639</td>\n",
              "    </tr>\n",
              "    <tr>\n",
              "      <th>9</th>\n",
              "      <td>10</td>\n",
              "      <td>Germany</td>\n",
              "      <td>GER</td>\n",
              "      <td>Europe</td>\n",
              "      <td>12</td>\n",
              "      <td>13</td>\n",
              "      <td>8</td>\n",
              "      <td>33</td>\n",
              "      <td>8.448227e+07</td>\n",
              "      <td>49289.02237</td>\n",
              "    </tr>\n",
              "  </tbody>\n",
              "</table>\n",
              "</div>"
            ],
            "text/plain": [
              "   Rank        Country Country Code      Continent  Gold  Silver  Bronze  \\\n",
              "0     1  United States           US  North America    40      44      42   \n",
              "1     2          China          CHN           Asia    40      27      24   \n",
              "2     3          Japan          JPN           Asia    20      12      13   \n",
              "3     4      Australia          AUS        Oceania    18      19      16   \n",
              "4     5         France          FRA         Europe    16      26      22   \n",
              "5     6    Netherlands          NED         Europe    15       7      12   \n",
              "6     7  Great Britain          GBG         Europe    14      22      29   \n",
              "7     8    South Korea          KOR           Asia    13       9      10   \n",
              "8     9          Italy          ITA         Europe    12      13      15   \n",
              "9    10        Germany          GER         Europe    12      13       8   \n",
              "\n",
              "   Total    Population  GDP per capita (current US$)  \n",
              "0    126  3.349149e+08                   71972.64137  \n",
              "1     91  1.410710e+09                   11689.34581  \n",
              "2     45  1.245166e+08                   37673.38470  \n",
              "3     53  2.663854e+07                   59480.90144  \n",
              "4     64  6.817023e+07                   41738.60442  \n",
              "5     34  1.787949e+07                   56585.69168  \n",
              "6     65  6.697000e+07                   46125.26000  \n",
              "7     32  5.171262e+07                   32853.05860  \n",
              "8     40  5.876115e+07                   35095.94639  \n",
              "9     33  8.448227e+07                   49289.02237  "
            ]
          },
          "execution_count": 19,
          "metadata": {},
          "output_type": "execute_result"
        }
      ],
      "source": [
        "#Read the file into a pandas dataframe\n",
        "olympics_df = pd.read_csv('olympics2024.csv')\n",
        "olympics_df.head(10)"
      ]
    },
    {
      "cell_type": "code",
      "execution_count": null,
      "metadata": {
        "id": "_2T_9P6caUWA"
      },
      "outputs": [
        {
          "data": {
            "text/plain": [
              "Index(['Rank', 'Country', 'Country Code', 'Continent', 'Gold', 'Silver',\n",
              "       'Bronze', 'Total', 'Population', 'GDP per capita (current US$)'],\n",
              "      dtype='object')"
            ]
          },
          "execution_count": 6,
          "metadata": {},
          "output_type": "execute_result"
        }
      ],
      "source": [
        "#Output the table, olympics to the screen\n",
        "olympics_df.columns"
      ]
    },
    {
      "cell_type": "markdown",
      "metadata": {
        "id": "L-JQNN_lUqyb"
      },
      "source": [
        "# Working with tables"
      ]
    },
    {
      "cell_type": "code",
      "execution_count": null,
      "metadata": {
        "id": "zTMpSQsLQfh6"
      },
      "outputs": [],
      "source": [
        "# print the column header to the screen\n"
      ]
    },
    {
      "cell_type": "code",
      "execution_count": null,
      "metadata": {
        "id": "mPsIkLMWofbc"
      },
      "outputs": [
        {
          "data": {
            "application/vnd.microsoft.datawrangler.viewer.v0+json": {
              "columns": [
                {
                  "name": "index",
                  "rawType": "int64",
                  "type": "integer"
                },
                {
                  "name": "Country",
                  "rawType": "object",
                  "type": "string"
                },
                {
                  "name": "Total",
                  "rawType": "int64",
                  "type": "integer"
                }
              ],
              "conversionMethod": "pd.DataFrame",
              "ref": "5e3ef6da-3ae9-46ca-b83a-988925605f85",
              "rows": [
                [
                  "0",
                  "United States",
                  "126"
                ],
                [
                  "1",
                  "China",
                  "91"
                ],
                [
                  "2",
                  "Japan",
                  "45"
                ],
                [
                  "3",
                  "Australia",
                  "53"
                ],
                [
                  "4",
                  "France",
                  "64"
                ],
                [
                  "5",
                  "Netherlands",
                  "34"
                ],
                [
                  "6",
                  "Great Britain",
                  "65"
                ],
                [
                  "7",
                  "South Korea",
                  "32"
                ],
                [
                  "8",
                  "Italy",
                  "40"
                ],
                [
                  "9",
                  "Germany",
                  "33"
                ],
                [
                  "10",
                  "New Zealand",
                  "20"
                ],
                [
                  "11",
                  "Canada",
                  "27"
                ],
                [
                  "12",
                  "Uzbekistan",
                  "13"
                ],
                [
                  "13",
                  "Hungary",
                  "19"
                ],
                [
                  "14",
                  "Spain",
                  "18"
                ],
                [
                  "15",
                  "Sweden",
                  "11"
                ],
                [
                  "16",
                  "Kenya",
                  "11"
                ],
                [
                  "17",
                  "Norway",
                  "8"
                ],
                [
                  "18",
                  "Ireland",
                  "7"
                ],
                [
                  "19",
                  "Brazil",
                  "20"
                ],
                [
                  "20",
                  "Iran",
                  "12"
                ],
                [
                  "21",
                  "Ukraine",
                  "12"
                ],
                [
                  "22",
                  "Romania",
                  "9"
                ],
                [
                  "23",
                  "Georgia",
                  "7"
                ],
                [
                  "24",
                  "Belgium",
                  "10"
                ],
                [
                  "25",
                  "Bulgaria",
                  "7"
                ],
                [
                  "26",
                  "Serbia",
                  "5"
                ],
                [
                  "27",
                  "Czech Republic",
                  "5"
                ],
                [
                  "28",
                  "Denmark",
                  "9"
                ],
                [
                  "29",
                  "Azerbaijan",
                  "7"
                ],
                [
                  "30",
                  "Croatia",
                  "7"
                ],
                [
                  "31",
                  "Cuba",
                  "9"
                ],
                [
                  "32",
                  "Bahrain",
                  "4"
                ],
                [
                  "33",
                  "Slovenia",
                  "3"
                ],
                [
                  "34",
                  "Chinese Taipei",
                  "7"
                ],
                [
                  "35",
                  "Austria",
                  "5"
                ],
                [
                  "36",
                  "Hong Kong",
                  "4"
                ],
                [
                  "37",
                  "Philippines",
                  "4"
                ],
                [
                  "38",
                  "Algeria",
                  "3"
                ],
                [
                  "39",
                  "Indonesia",
                  "3"
                ],
                [
                  "40",
                  "Israel",
                  "7"
                ],
                [
                  "41",
                  "Poland",
                  "10"
                ],
                [
                  "42",
                  "Kazakhstan",
                  "7"
                ],
                [
                  "43",
                  "Jamaica",
                  "6"
                ],
                [
                  "44",
                  "South Africa",
                  "6"
                ],
                [
                  "45",
                  "Thailand",
                  "6"
                ],
                [
                  "46",
                  "Ethiopia",
                  "4"
                ],
                [
                  "47",
                  "Switzerland",
                  "8"
                ],
                [
                  "48",
                  "Ecuador",
                  "5"
                ],
                [
                  "49",
                  "Portugal",
                  "4"
                ]
              ],
              "shape": {
                "columns": 2,
                "rows": 91
              }
            },
            "text/html": [
              "<div>\n",
              "<style scoped>\n",
              "    .dataframe tbody tr th:only-of-type {\n",
              "        vertical-align: middle;\n",
              "    }\n",
              "\n",
              "    .dataframe tbody tr th {\n",
              "        vertical-align: top;\n",
              "    }\n",
              "\n",
              "    .dataframe thead th {\n",
              "        text-align: right;\n",
              "    }\n",
              "</style>\n",
              "<table border=\"1\" class=\"dataframe\">\n",
              "  <thead>\n",
              "    <tr style=\"text-align: right;\">\n",
              "      <th></th>\n",
              "      <th>Country</th>\n",
              "      <th>Total</th>\n",
              "    </tr>\n",
              "  </thead>\n",
              "  <tbody>\n",
              "    <tr>\n",
              "      <th>0</th>\n",
              "      <td>United States</td>\n",
              "      <td>126</td>\n",
              "    </tr>\n",
              "    <tr>\n",
              "      <th>1</th>\n",
              "      <td>China</td>\n",
              "      <td>91</td>\n",
              "    </tr>\n",
              "    <tr>\n",
              "      <th>2</th>\n",
              "      <td>Japan</td>\n",
              "      <td>45</td>\n",
              "    </tr>\n",
              "    <tr>\n",
              "      <th>3</th>\n",
              "      <td>Australia</td>\n",
              "      <td>53</td>\n",
              "    </tr>\n",
              "    <tr>\n",
              "      <th>4</th>\n",
              "      <td>France</td>\n",
              "      <td>64</td>\n",
              "    </tr>\n",
              "    <tr>\n",
              "      <th>...</th>\n",
              "      <td>...</td>\n",
              "      <td>...</td>\n",
              "    </tr>\n",
              "    <tr>\n",
              "      <th>86</th>\n",
              "      <td>Peru</td>\n",
              "      <td>1</td>\n",
              "    </tr>\n",
              "    <tr>\n",
              "      <th>87</th>\n",
              "      <td>Qatar</td>\n",
              "      <td>1</td>\n",
              "    </tr>\n",
              "    <tr>\n",
              "      <th>88</th>\n",
              "      <td>Singapore</td>\n",
              "      <td>1</td>\n",
              "    </tr>\n",
              "    <tr>\n",
              "      <th>89</th>\n",
              "      <td>Slovakia</td>\n",
              "      <td>1</td>\n",
              "    </tr>\n",
              "    <tr>\n",
              "      <th>90</th>\n",
              "      <td>Zambia</td>\n",
              "      <td>1</td>\n",
              "    </tr>\n",
              "  </tbody>\n",
              "</table>\n",
              "<p>91 rows × 2 columns</p>\n",
              "</div>"
            ],
            "text/plain": [
              "          Country  Total\n",
              "0   United States    126\n",
              "1           China     91\n",
              "2           Japan     45\n",
              "3       Australia     53\n",
              "4          France     64\n",
              "..            ...    ...\n",
              "86           Peru      1\n",
              "87          Qatar      1\n",
              "88      Singapore      1\n",
              "89       Slovakia      1\n",
              "90         Zambia      1\n",
              "\n",
              "[91 rows x 2 columns]"
            ]
          },
          "execution_count": 8,
          "metadata": {},
          "output_type": "execute_result"
        }
      ],
      "source": [
        "# select only specific columns\n",
        "olympics_df[['Country', 'Total']]"
      ]
    },
    {
      "cell_type": "markdown",
      "metadata": {
        "id": "G6_GqXetqcoR"
      },
      "source": [
        "To make changes permanent:\n",
        "\n",
        "*   Assign new value to variable\n",
        "*   Create new variable"
      ]
    },
    {
      "cell_type": "code",
      "execution_count": null,
      "metadata": {
        "id": "-i-Iob2rUM10"
      },
      "outputs": [],
      "source": [
        "# read only specific columns into a new table\n",
        "country_totals_df = olympics_df[['Country', 'Total']]"
      ]
    },
    {
      "cell_type": "code",
      "execution_count": null,
      "metadata": {
        "id": "FyUqd9o-Uf3C"
      },
      "outputs": [
        {
          "data": {
            "application/vnd.microsoft.datawrangler.viewer.v0+json": {
              "columns": [
                {
                  "name": "index",
                  "rawType": "int64",
                  "type": "integer"
                },
                {
                  "name": "Country",
                  "rawType": "object",
                  "type": "string"
                },
                {
                  "name": "Total",
                  "rawType": "int64",
                  "type": "integer"
                }
              ],
              "conversionMethod": "pd.DataFrame",
              "ref": "86495a75-97fe-49de-bba9-925bb7ef7c3c",
              "rows": [
                [
                  "0",
                  "United States",
                  "126"
                ],
                [
                  "1",
                  "China",
                  "91"
                ],
                [
                  "2",
                  "Japan",
                  "45"
                ],
                [
                  "3",
                  "Australia",
                  "53"
                ],
                [
                  "4",
                  "France",
                  "64"
                ],
                [
                  "5",
                  "Netherlands",
                  "34"
                ],
                [
                  "6",
                  "Great Britain",
                  "65"
                ],
                [
                  "7",
                  "South Korea",
                  "32"
                ],
                [
                  "8",
                  "Italy",
                  "40"
                ],
                [
                  "9",
                  "Germany",
                  "33"
                ],
                [
                  "10",
                  "New Zealand",
                  "20"
                ],
                [
                  "11",
                  "Canada",
                  "27"
                ],
                [
                  "12",
                  "Uzbekistan",
                  "13"
                ],
                [
                  "13",
                  "Hungary",
                  "19"
                ],
                [
                  "14",
                  "Spain",
                  "18"
                ],
                [
                  "15",
                  "Sweden",
                  "11"
                ],
                [
                  "16",
                  "Kenya",
                  "11"
                ],
                [
                  "17",
                  "Norway",
                  "8"
                ],
                [
                  "18",
                  "Ireland",
                  "7"
                ],
                [
                  "19",
                  "Brazil",
                  "20"
                ],
                [
                  "20",
                  "Iran",
                  "12"
                ],
                [
                  "21",
                  "Ukraine",
                  "12"
                ],
                [
                  "22",
                  "Romania",
                  "9"
                ],
                [
                  "23",
                  "Georgia",
                  "7"
                ],
                [
                  "24",
                  "Belgium",
                  "10"
                ],
                [
                  "25",
                  "Bulgaria",
                  "7"
                ],
                [
                  "26",
                  "Serbia",
                  "5"
                ],
                [
                  "27",
                  "Czech Republic",
                  "5"
                ],
                [
                  "28",
                  "Denmark",
                  "9"
                ],
                [
                  "29",
                  "Azerbaijan",
                  "7"
                ],
                [
                  "30",
                  "Croatia",
                  "7"
                ],
                [
                  "31",
                  "Cuba",
                  "9"
                ],
                [
                  "32",
                  "Bahrain",
                  "4"
                ],
                [
                  "33",
                  "Slovenia",
                  "3"
                ],
                [
                  "34",
                  "Chinese Taipei",
                  "7"
                ],
                [
                  "35",
                  "Austria",
                  "5"
                ],
                [
                  "36",
                  "Hong Kong",
                  "4"
                ],
                [
                  "37",
                  "Philippines",
                  "4"
                ],
                [
                  "38",
                  "Algeria",
                  "3"
                ],
                [
                  "39",
                  "Indonesia",
                  "3"
                ],
                [
                  "40",
                  "Israel",
                  "7"
                ],
                [
                  "41",
                  "Poland",
                  "10"
                ],
                [
                  "42",
                  "Kazakhstan",
                  "7"
                ],
                [
                  "43",
                  "Jamaica",
                  "6"
                ],
                [
                  "44",
                  "South Africa",
                  "6"
                ],
                [
                  "45",
                  "Thailand",
                  "6"
                ],
                [
                  "46",
                  "Ethiopia",
                  "4"
                ],
                [
                  "47",
                  "Switzerland",
                  "8"
                ],
                [
                  "48",
                  "Ecuador",
                  "5"
                ],
                [
                  "49",
                  "Portugal",
                  "4"
                ]
              ],
              "shape": {
                "columns": 2,
                "rows": 91
              }
            },
            "text/html": [
              "<div>\n",
              "<style scoped>\n",
              "    .dataframe tbody tr th:only-of-type {\n",
              "        vertical-align: middle;\n",
              "    }\n",
              "\n",
              "    .dataframe tbody tr th {\n",
              "        vertical-align: top;\n",
              "    }\n",
              "\n",
              "    .dataframe thead th {\n",
              "        text-align: right;\n",
              "    }\n",
              "</style>\n",
              "<table border=\"1\" class=\"dataframe\">\n",
              "  <thead>\n",
              "    <tr style=\"text-align: right;\">\n",
              "      <th></th>\n",
              "      <th>Country</th>\n",
              "      <th>Total</th>\n",
              "    </tr>\n",
              "  </thead>\n",
              "  <tbody>\n",
              "    <tr>\n",
              "      <th>0</th>\n",
              "      <td>United States</td>\n",
              "      <td>126</td>\n",
              "    </tr>\n",
              "    <tr>\n",
              "      <th>1</th>\n",
              "      <td>China</td>\n",
              "      <td>91</td>\n",
              "    </tr>\n",
              "    <tr>\n",
              "      <th>2</th>\n",
              "      <td>Japan</td>\n",
              "      <td>45</td>\n",
              "    </tr>\n",
              "    <tr>\n",
              "      <th>3</th>\n",
              "      <td>Australia</td>\n",
              "      <td>53</td>\n",
              "    </tr>\n",
              "    <tr>\n",
              "      <th>4</th>\n",
              "      <td>France</td>\n",
              "      <td>64</td>\n",
              "    </tr>\n",
              "    <tr>\n",
              "      <th>...</th>\n",
              "      <td>...</td>\n",
              "      <td>...</td>\n",
              "    </tr>\n",
              "    <tr>\n",
              "      <th>86</th>\n",
              "      <td>Peru</td>\n",
              "      <td>1</td>\n",
              "    </tr>\n",
              "    <tr>\n",
              "      <th>87</th>\n",
              "      <td>Qatar</td>\n",
              "      <td>1</td>\n",
              "    </tr>\n",
              "    <tr>\n",
              "      <th>88</th>\n",
              "      <td>Singapore</td>\n",
              "      <td>1</td>\n",
              "    </tr>\n",
              "    <tr>\n",
              "      <th>89</th>\n",
              "      <td>Slovakia</td>\n",
              "      <td>1</td>\n",
              "    </tr>\n",
              "    <tr>\n",
              "      <th>90</th>\n",
              "      <td>Zambia</td>\n",
              "      <td>1</td>\n",
              "    </tr>\n",
              "  </tbody>\n",
              "</table>\n",
              "<p>91 rows × 2 columns</p>\n",
              "</div>"
            ],
            "text/plain": [
              "          Country  Total\n",
              "0   United States    126\n",
              "1           China     91\n",
              "2           Japan     45\n",
              "3       Australia     53\n",
              "4          France     64\n",
              "..            ...    ...\n",
              "86           Peru      1\n",
              "87          Qatar      1\n",
              "88      Singapore      1\n",
              "89       Slovakia      1\n",
              "90         Zambia      1\n",
              "\n",
              "[91 rows x 2 columns]"
            ]
          },
          "execution_count": 11,
          "metadata": {},
          "output_type": "execute_result"
        }
      ],
      "source": [
        "country_totals_df"
      ]
    },
    {
      "cell_type": "code",
      "execution_count": null,
      "metadata": {
        "id": "kKp0oXHvpuR4"
      },
      "outputs": [
        {
          "data": {
            "application/vnd.microsoft.datawrangler.viewer.v0+json": {
              "columns": [
                {
                  "name": "index",
                  "rawType": "int64",
                  "type": "integer"
                },
                {
                  "name": "Country",
                  "rawType": "object",
                  "type": "string"
                },
                {
                  "name": "Continent",
                  "rawType": "object",
                  "type": "string"
                },
                {
                  "name": "Total",
                  "rawType": "int64",
                  "type": "integer"
                },
                {
                  "name": "Population",
                  "rawType": "float64",
                  "type": "float"
                },
                {
                  "name": "GDP per capita (current US$)",
                  "rawType": "float64",
                  "type": "float"
                }
              ],
              "conversionMethod": "pd.DataFrame",
              "ref": "68e3660a-b211-4ff8-81ba-f5c629f135ba",
              "rows": [
                [
                  "0",
                  "United States",
                  "North America",
                  "126",
                  "334914895.0",
                  "71972.64137"
                ],
                [
                  "1",
                  "China",
                  "Asia",
                  "91",
                  "1410710000.0",
                  "11689.34581"
                ],
                [
                  "2",
                  "Japan",
                  "Asia",
                  "45",
                  "124516650.0",
                  "37673.3847"
                ],
                [
                  "3",
                  "Australia",
                  "Oceania",
                  "53",
                  "26638544.0",
                  "59480.90144"
                ],
                [
                  "4",
                  "France",
                  "Europe",
                  "64",
                  "68170228.0",
                  "41738.60442"
                ],
                [
                  "5",
                  "Netherlands",
                  "Europe",
                  "34",
                  "17879488.0",
                  "56585.69168"
                ],
                [
                  "6",
                  "Great Britain",
                  "Europe",
                  "65",
                  "66970000.0",
                  "46125.26"
                ],
                [
                  "7",
                  "South Korea",
                  "Asia",
                  "32",
                  "51712619.0",
                  "32853.0586"
                ],
                [
                  "8",
                  "Italy",
                  "Europe",
                  "40",
                  "58761146.0",
                  "35095.94639"
                ],
                [
                  "9",
                  "Germany",
                  "Europe",
                  "33",
                  "84482267.0",
                  "49289.02237"
                ],
                [
                  "10",
                  "New Zealand",
                  "Oceania",
                  "20",
                  "5223100.0",
                  "46180.28448"
                ],
                [
                  "11",
                  "Canada",
                  "North America",
                  "27",
                  "40097761.0",
                  "50253.72868"
                ],
                [
                  "12",
                  "Uzbekistan",
                  "Asia",
                  "13",
                  "36412350.0",
                  "2064.040542"
                ],
                [
                  "13",
                  "Hungary",
                  "Europe",
                  "19",
                  "9589872.0",
                  "18435.26151"
                ],
                [
                  "14",
                  "Spain",
                  "Europe",
                  "18",
                  "48373336.0",
                  "29881.23276"
                ],
                [
                  "15",
                  "Sweden",
                  "Europe",
                  "11",
                  "10536632.0",
                  "55759.95411"
                ],
                [
                  "16",
                  "Kenya",
                  "Africa",
                  "11",
                  "55100586.0",
                  "2005.037898"
                ],
                [
                  "17",
                  "Norway",
                  "Europe",
                  "8",
                  "5519594.0",
                  "86920.74627"
                ],
                [
                  "18",
                  "Ireland",
                  "Europe",
                  "7",
                  "5262382.0",
                  "95298.27216"
                ],
                [
                  "19",
                  "Brazil",
                  "South America",
                  "20",
                  "216422446.0",
                  "8534.605259"
                ],
                [
                  "20",
                  "Iran",
                  "Asia",
                  "12",
                  "89172767.0",
                  "3855.675365"
                ],
                [
                  "21",
                  "Ukraine",
                  "Europe",
                  "12",
                  "37000000.0",
                  "4399.675732"
                ],
                [
                  "22",
                  "Romania",
                  "Europe",
                  "9",
                  "19056116.0",
                  "15012.76132"
                ],
                [
                  "23",
                  "Georgia",
                  "Europe",
                  "7",
                  "3760365.0",
                  "5795.191456"
                ],
                [
                  "24",
                  "Belgium",
                  "Europe",
                  "10",
                  "11822592.0",
                  "49502.181"
                ],
                [
                  "25",
                  "Bulgaria",
                  "Europe",
                  "7",
                  "6430370.0",
                  "12402.81308"
                ],
                [
                  "26",
                  "Serbia",
                  "Europe",
                  "5",
                  "6618026.0",
                  "9056.522322"
                ],
                [
                  "27",
                  "Czech Republic",
                  "Europe",
                  "5",
                  "10873689.0",
                  "26226.85611"
                ],
                [
                  "28",
                  "Denmark",
                  "Europe",
                  "9",
                  "5946952.0",
                  "65091.13215"
                ],
                [
                  "29",
                  "Azerbaijan",
                  "Europe",
                  "7",
                  "10112555.0",
                  "5873.877509"
                ],
                [
                  "30",
                  "Croatia",
                  "Europe",
                  "7",
                  "3853200.0",
                  "17535.75464"
                ],
                [
                  "31",
                  "Cuba",
                  "North America",
                  "9",
                  "11194449.0",
                  "9319.476507"
                ],
                [
                  "32",
                  "Bahrain",
                  "Asia",
                  "4",
                  "1485509.0",
                  "27076.70714"
                ],
                [
                  "33",
                  "Slovenia",
                  "Europe",
                  "3",
                  "2120937.0",
                  "28306.95712"
                ],
                [
                  "34",
                  "Chinese Taipei",
                  "Asia",
                  "7",
                  null,
                  null
                ],
                [
                  "35",
                  "Austria",
                  "Europe",
                  "5",
                  "9132383.0",
                  "52193.1247"
                ],
                [
                  "36",
                  "Hong Kong",
                  "Asia",
                  "4",
                  "7346000.0",
                  "48983.62"
                ],
                [
                  "37",
                  "Philippines",
                  "Asia",
                  "4",
                  "117337368.0",
                  "3464.693944"
                ],
                [
                  "38",
                  "Algeria",
                  "Africa",
                  "3",
                  "45606480.0",
                  "4564.844347"
                ],
                [
                  "39",
                  "Indonesia",
                  "Asia",
                  "3",
                  "277534122.0",
                  "4421.907866"
                ],
                [
                  "40",
                  "Israel",
                  "Asia",
                  "7",
                  "9756700.0",
                  "49724.23102"
                ],
                [
                  "41",
                  "Poland",
                  "Europe",
                  "10",
                  "36685849.0",
                  "18082.49396"
                ],
                [
                  "42",
                  "Kazakhstan",
                  "Asia",
                  "7",
                  "19900177.0",
                  "10765.2318"
                ],
                [
                  "43",
                  "Jamaica",
                  "North America",
                  "6",
                  "2825544.0",
                  "5725.686596"
                ],
                [
                  "44",
                  "South Africa",
                  "Africa",
                  "6",
                  "60414495.0",
                  "6509.769746"
                ],
                [
                  "45",
                  "Thailand",
                  "Asia",
                  "6",
                  "71801279.0",
                  "7157.159545"
                ],
                [
                  "46",
                  "Ethiopia",
                  "Africa",
                  "4",
                  "126527060.0",
                  "1001.075906"
                ],
                [
                  "47",
                  "Switzerland",
                  "Europe",
                  "8",
                  "8849852.0",
                  "91344.19871"
                ],
                [
                  "48",
                  "Ecuador",
                  "South America",
                  "5",
                  "18190484.0",
                  "6140.120833"
                ],
                [
                  "49",
                  "Portugal",
                  "Europe",
                  "4",
                  "10525347.0",
                  "24404.9535"
                ]
              ],
              "shape": {
                "columns": 5,
                "rows": 91
              }
            },
            "text/html": [
              "<div>\n",
              "<style scoped>\n",
              "    .dataframe tbody tr th:only-of-type {\n",
              "        vertical-align: middle;\n",
              "    }\n",
              "\n",
              "    .dataframe tbody tr th {\n",
              "        vertical-align: top;\n",
              "    }\n",
              "\n",
              "    .dataframe thead th {\n",
              "        text-align: right;\n",
              "    }\n",
              "</style>\n",
              "<table border=\"1\" class=\"dataframe\">\n",
              "  <thead>\n",
              "    <tr style=\"text-align: right;\">\n",
              "      <th></th>\n",
              "      <th>Country</th>\n",
              "      <th>Continent</th>\n",
              "      <th>Total</th>\n",
              "      <th>Population</th>\n",
              "      <th>GDP per capita (current US$)</th>\n",
              "    </tr>\n",
              "  </thead>\n",
              "  <tbody>\n",
              "    <tr>\n",
              "      <th>0</th>\n",
              "      <td>United States</td>\n",
              "      <td>North America</td>\n",
              "      <td>126</td>\n",
              "      <td>3.349149e+08</td>\n",
              "      <td>71972.641370</td>\n",
              "    </tr>\n",
              "    <tr>\n",
              "      <th>1</th>\n",
              "      <td>China</td>\n",
              "      <td>Asia</td>\n",
              "      <td>91</td>\n",
              "      <td>1.410710e+09</td>\n",
              "      <td>11689.345810</td>\n",
              "    </tr>\n",
              "    <tr>\n",
              "      <th>2</th>\n",
              "      <td>Japan</td>\n",
              "      <td>Asia</td>\n",
              "      <td>45</td>\n",
              "      <td>1.245166e+08</td>\n",
              "      <td>37673.384700</td>\n",
              "    </tr>\n",
              "    <tr>\n",
              "      <th>3</th>\n",
              "      <td>Australia</td>\n",
              "      <td>Oceania</td>\n",
              "      <td>53</td>\n",
              "      <td>2.663854e+07</td>\n",
              "      <td>59480.901440</td>\n",
              "    </tr>\n",
              "    <tr>\n",
              "      <th>4</th>\n",
              "      <td>France</td>\n",
              "      <td>Europe</td>\n",
              "      <td>64</td>\n",
              "      <td>6.817023e+07</td>\n",
              "      <td>41738.604420</td>\n",
              "    </tr>\n",
              "    <tr>\n",
              "      <th>...</th>\n",
              "      <td>...</td>\n",
              "      <td>...</td>\n",
              "      <td>...</td>\n",
              "      <td>...</td>\n",
              "      <td>...</td>\n",
              "    </tr>\n",
              "    <tr>\n",
              "      <th>86</th>\n",
              "      <td>Peru</td>\n",
              "      <td>South America</td>\n",
              "      <td>1</td>\n",
              "      <td>3.435272e+07</td>\n",
              "      <td>6949.323111</td>\n",
              "    </tr>\n",
              "    <tr>\n",
              "      <th>87</th>\n",
              "      <td>Qatar</td>\n",
              "      <td>Asia</td>\n",
              "      <td>1</td>\n",
              "      <td>2.716391e+06</td>\n",
              "      <td>67370.554620</td>\n",
              "    </tr>\n",
              "    <tr>\n",
              "      <th>88</th>\n",
              "      <td>Singapore</td>\n",
              "      <td>Asia</td>\n",
              "      <td>1</td>\n",
              "      <td>5.917648e+06</td>\n",
              "      <td>76062.578980</td>\n",
              "    </tr>\n",
              "    <tr>\n",
              "      <th>89</th>\n",
              "      <td>Slovakia</td>\n",
              "      <td>Europe</td>\n",
              "      <td>1</td>\n",
              "      <td>5.426740e+06</td>\n",
              "      <td>21290.114290</td>\n",
              "    </tr>\n",
              "    <tr>\n",
              "      <th>90</th>\n",
              "      <td>Zambia</td>\n",
              "      <td>Africa</td>\n",
              "      <td>1</td>\n",
              "      <td>2.056974e+07</td>\n",
              "      <td>1237.426046</td>\n",
              "    </tr>\n",
              "  </tbody>\n",
              "</table>\n",
              "<p>91 rows × 5 columns</p>\n",
              "</div>"
            ],
            "text/plain": [
              "          Country      Continent  Total    Population  \\\n",
              "0   United States  North America    126  3.349149e+08   \n",
              "1           China           Asia     91  1.410710e+09   \n",
              "2           Japan           Asia     45  1.245166e+08   \n",
              "3       Australia        Oceania     53  2.663854e+07   \n",
              "4          France         Europe     64  6.817023e+07   \n",
              "..            ...            ...    ...           ...   \n",
              "86           Peru  South America      1  3.435272e+07   \n",
              "87          Qatar           Asia      1  2.716391e+06   \n",
              "88      Singapore           Asia      1  5.917648e+06   \n",
              "89       Slovakia         Europe      1  5.426740e+06   \n",
              "90         Zambia         Africa      1  2.056974e+07   \n",
              "\n",
              "    GDP per capita (current US$)  \n",
              "0                   71972.641370  \n",
              "1                   11689.345810  \n",
              "2                   37673.384700  \n",
              "3                   59480.901440  \n",
              "4                   41738.604420  \n",
              "..                           ...  \n",
              "86                   6949.323111  \n",
              "87                  67370.554620  \n",
              "88                  76062.578980  \n",
              "89                  21290.114290  \n",
              "90                   1237.426046  \n",
              "\n",
              "[91 rows x 5 columns]"
            ]
          },
          "execution_count": 20,
          "metadata": {},
          "output_type": "execute_result"
        }
      ],
      "source": [
        "# drop a specific column(s)\n",
        "olympics_df.drop(columns=['Rank', 'Country Code', 'Gold', 'Silver', 'Bronze'], axis=1)\n"
      ]
    },
    {
      "cell_type": "markdown",
      "metadata": {
        "id": "YqiqdPJ_EJ3I"
      },
      "source": [
        "**Sorting**"
      ]
    },
    {
      "cell_type": "code",
      "execution_count": null,
      "metadata": {
        "id": "4PyTR0fvqFtZ"
      },
      "outputs": [
        {
          "data": {
            "application/vnd.microsoft.datawrangler.viewer.v0+json": {
              "columns": [
                {
                  "name": "index",
                  "rawType": "int64",
                  "type": "integer"
                },
                {
                  "name": "Rank",
                  "rawType": "int64",
                  "type": "integer"
                },
                {
                  "name": "Country",
                  "rawType": "object",
                  "type": "string"
                },
                {
                  "name": "Country Code",
                  "rawType": "object",
                  "type": "string"
                },
                {
                  "name": "Continent",
                  "rawType": "object",
                  "type": "string"
                },
                {
                  "name": "Gold",
                  "rawType": "int64",
                  "type": "integer"
                },
                {
                  "name": "Silver",
                  "rawType": "int64",
                  "type": "integer"
                },
                {
                  "name": "Bronze",
                  "rawType": "int64",
                  "type": "integer"
                },
                {
                  "name": "Total",
                  "rawType": "int64",
                  "type": "integer"
                },
                {
                  "name": "Population",
                  "rawType": "float64",
                  "type": "float"
                },
                {
                  "name": "GDP per capita (current US$)",
                  "rawType": "float64",
                  "type": "float"
                }
              ],
              "conversionMethod": "pd.DataFrame",
              "ref": "ac6d5fe5-c1d7-44c8-bf9a-44c66d69e7c7",
              "rows": [
                [
                  "90",
                  "84",
                  "Zambia",
                  "ZAM",
                  "Africa",
                  "0",
                  "0",
                  "1",
                  "1",
                  "20569737.0",
                  "1237.426046"
                ],
                [
                  "61",
                  "62",
                  "Dominica",
                  "DMA",
                  "North America",
                  "1",
                  "0",
                  "0",
                  "1",
                  "73040.0",
                  "8106.886958"
                ],
                [
                  "62",
                  "62",
                  "Pakistan",
                  "PKN",
                  "Asia",
                  "1",
                  "0",
                  "0",
                  "1",
                  "240485658.0",
                  "1452.374849"
                ],
                [
                  "89",
                  "84",
                  "Slovakia",
                  "SVK",
                  "Europe",
                  "0",
                  "0",
                  "1",
                  "1",
                  "5426740.0",
                  "21290.11429"
                ],
                [
                  "73",
                  "74",
                  "Cyprus",
                  "CYP",
                  "Europe",
                  "0",
                  "1",
                  "0",
                  "1",
                  "1260138.0",
                  "31439.38672"
                ],
                [
                  "75",
                  "74",
                  "Jordan",
                  "JOR",
                  "Asia",
                  "0",
                  "1",
                  "0",
                  "1",
                  "11337052.0",
                  "4220.834185"
                ],
                [
                  "76",
                  "74",
                  "Mongolia",
                  "MGL",
                  "Asia",
                  "0",
                  "1",
                  "0",
                  "1",
                  "3447157.0",
                  "4762.513793"
                ],
                [
                  "77",
                  "74",
                  "Panama",
                  "PAN",
                  "North America",
                  "0",
                  "1",
                  "0",
                  "1",
                  "4468087.0",
                  "16255.37014"
                ],
                [
                  "74",
                  "74",
                  "Fiji",
                  "FIJ",
                  "Oceania",
                  "0",
                  "1",
                  "0",
                  "1",
                  "936375.0",
                  "5324.757646"
                ],
                [
                  "88",
                  "84",
                  "Singapore",
                  "SIN",
                  "Asia",
                  "0",
                  "0",
                  "1",
                  "1",
                  "5917648.0",
                  "76062.57898"
                ],
                [
                  "87",
                  "84",
                  "Qatar",
                  "QAT",
                  "Asia",
                  "0",
                  "0",
                  "1",
                  "1",
                  "2716391.0",
                  "67370.55462"
                ],
                [
                  "83",
                  "84",
                  "Cape Verde",
                  "CPV",
                  "Africa",
                  "0",
                  "0",
                  "1",
                  "1",
                  "598682.0",
                  "3744.982919"
                ],
                [
                  "84",
                  "84",
                  "Ivory Coast",
                  "CIV",
                  "Africa",
                  "0",
                  "0",
                  "1",
                  "1",
                  "28873034.0",
                  "2505.987442"
                ],
                [
                  "85",
                  "84",
                  "Refugee Olympic Team",
                  "EOR",
                  "Global",
                  "0",
                  "0",
                  "1",
                  "1",
                  null,
                  null
                ],
                [
                  "86",
                  "84",
                  "Peru",
                  "PER",
                  "South America",
                  "0",
                  "0",
                  "1",
                  "1",
                  "34352719.0",
                  "6949.323111"
                ],
                [
                  "80",
                  "80",
                  "Grenada",
                  "GRN",
                  "North America",
                  "0",
                  "0",
                  "2",
                  "2",
                  "126183.0",
                  "9512.406197"
                ],
                [
                  "57",
                  "55",
                  "Uganda",
                  "UGA",
                  "Africa",
                  "1",
                  "1",
                  "0",
                  "2",
                  "48582334.0",
                  "906.4504172"
                ],
                [
                  "56",
                  "55",
                  "St Lucia",
                  "LCA",
                  "North America",
                  "1",
                  "1",
                  "0",
                  "2",
                  "180251.0",
                  "11459.14292"
                ],
                [
                  "55",
                  "55",
                  "Chile",
                  "CHI",
                  "South America",
                  "1",
                  "1",
                  "0",
                  "2",
                  "19629590.0",
                  "15293.82586"
                ],
                [
                  "81",
                  "80",
                  "Malaysia",
                  "MAS",
                  "Asia",
                  "0",
                  "0",
                  "2",
                  "2",
                  "34308525.0",
                  "11214.58638"
                ],
                [
                  "54",
                  "55",
                  "Botswana",
                  "BOT",
                  "Africa",
                  "1",
                  "1",
                  "0",
                  "2",
                  "2675352.0",
                  "6957.26003"
                ],
                [
                  "72",
                  "73",
                  "Kosovo",
                  "KOS",
                  "Europe",
                  "0",
                  "1",
                  "1",
                  "2",
                  "1756374.0",
                  "5046.323401"
                ],
                [
                  "60",
                  "60",
                  "Morocco",
                  "MOR",
                  "Africa",
                  "1",
                  "0",
                  "1",
                  "2",
                  "37840044.0",
                  "3527.696094"
                ],
                [
                  "82",
                  "80",
                  "Puerto Rico",
                  "PUR",
                  "North America",
                  "0",
                  "0",
                  "2",
                  "2",
                  "3205691.0",
                  "33802.13698"
                ],
                [
                  "79",
                  "80",
                  "Albania",
                  "ALB",
                  "Europe",
                  "0",
                  "0",
                  "2",
                  "2",
                  "2745972.0",
                  "6458.868963"
                ],
                [
                  "59",
                  "60",
                  "Guatemala",
                  "GUA",
                  "North America",
                  "1",
                  "0",
                  "1",
                  "2",
                  "17602431.0",
                  "5111.582503"
                ],
                [
                  "39",
                  "39",
                  "Indonesia",
                  "IDN",
                  "Asia",
                  "2",
                  "0",
                  "1",
                  "3",
                  "277534122.0",
                  "4421.907866"
                ],
                [
                  "38",
                  "39",
                  "Algeria",
                  "ALG",
                  "Africa",
                  "2",
                  "0",
                  "1",
                  "3",
                  "45606480.0",
                  "4564.844347"
                ],
                [
                  "58",
                  "59",
                  "Dominican Republic",
                  "DOM",
                  "North America",
                  "1",
                  "0",
                  "2",
                  "3",
                  "11332972.0",
                  "8929.053676"
                ],
                [
                  "33",
                  "34",
                  "Slovenia",
                  "SLO",
                  "Europe",
                  "2",
                  "1",
                  "0",
                  "3",
                  "2120937.0",
                  "28306.95712"
                ],
                [
                  "52",
                  "52",
                  "Egypt",
                  "EGY",
                  "Africa",
                  "1",
                  "1",
                  "1",
                  "3",
                  "112716598.0",
                  "3656.70506"
                ],
                [
                  "53",
                  "52",
                  "Tunisia",
                  "TUN",
                  "Africa",
                  "1",
                  "1",
                  "1",
                  "3",
                  "12458223.0",
                  "3658.481594"
                ],
                [
                  "51",
                  "52",
                  "Argentina",
                  "ARG",
                  "South America",
                  "1",
                  "1",
                  "1",
                  "3",
                  "46654581.0",
                  "11299.29838"
                ],
                [
                  "78",
                  "79",
                  "Tajikistan",
                  "TJK",
                  "Asia",
                  "0",
                  "0",
                  "3",
                  "3",
                  "10143543.0",
                  "984.6946478"
                ],
                [
                  "36",
                  "37",
                  "Hong Kong",
                  "HK",
                  "Asia",
                  "2",
                  "0",
                  "2",
                  "4",
                  "7346000.0",
                  "48983.62"
                ],
                [
                  "37",
                  "37",
                  "Philippines",
                  "PHI",
                  "Asia",
                  "2",
                  "0",
                  "2",
                  "4",
                  "117337368.0",
                  "3464.693944"
                ],
                [
                  "49",
                  "50",
                  "Portugal",
                  "POR",
                  "Europe",
                  "1",
                  "2",
                  "1",
                  "4",
                  "10525347.0",
                  "24404.9535"
                ],
                [
                  "65",
                  "66",
                  "Armenia",
                  "ARM",
                  "Europe",
                  "0",
                  "3",
                  "1",
                  "4",
                  "2777970.0",
                  "6008.194534"
                ],
                [
                  "66",
                  "66",
                  "Colombia",
                  "COL",
                  "South America",
                  "0",
                  "3",
                  "1",
                  "4",
                  "52085168.0",
                  "6312.888339"
                ],
                [
                  "32",
                  "33",
                  "Bahrain",
                  "BHR",
                  "Asia",
                  "2",
                  "1",
                  "1",
                  "4",
                  "1485509.0",
                  "27076.70714"
                ],
                [
                  "46",
                  "47",
                  "Ethiopia",
                  "ETH",
                  "Africa",
                  "1",
                  "3",
                  "0",
                  "4",
                  "126527060.0",
                  "1001.075906"
                ],
                [
                  "69",
                  "70",
                  "Lithuania",
                  "LTU",
                  "Europe",
                  "0",
                  "2",
                  "2",
                  "4",
                  "2871897.0",
                  "23205.7095"
                ],
                [
                  "71",
                  "72",
                  "Moldova",
                  "MDA",
                  "Europe",
                  "0",
                  "1",
                  "3",
                  "4",
                  "2486891.0",
                  "5284.329415"
                ],
                [
                  "27",
                  "28",
                  "Czech Republic",
                  "CZE",
                  "Europe",
                  "3",
                  "0",
                  "2",
                  "5",
                  "10873689.0",
                  "26226.85611"
                ],
                [
                  "48",
                  "49",
                  "Ecuador",
                  "ECU",
                  "South America",
                  "1",
                  "2",
                  "2",
                  "5",
                  "18190484.0",
                  "6140.120833"
                ],
                [
                  "64",
                  "65",
                  "Mexico",
                  "MEX",
                  "North America",
                  "0",
                  "3",
                  "2",
                  "5",
                  "128455567.0",
                  "11019.2336"
                ],
                [
                  "35",
                  "36",
                  "Austria",
                  "AUT",
                  "Europe",
                  "2",
                  "0",
                  "3",
                  "5",
                  "9132383.0",
                  "52193.1247"
                ],
                [
                  "26",
                  "27",
                  "Serbia",
                  "SER",
                  "Europe",
                  "3",
                  "1",
                  "1",
                  "5",
                  "6618026.0",
                  "9056.522322"
                ],
                [
                  "68",
                  "68",
                  "Kyrgyzstan",
                  "KGZ",
                  "Asia",
                  "0",
                  "2",
                  "4",
                  "6",
                  "7100800.0",
                  "1556.72393"
                ],
                [
                  "70",
                  "71",
                  "India",
                  "IND",
                  "Asia",
                  "0",
                  "1",
                  "5",
                  "6",
                  "1428627663.0",
                  "2213.409889"
                ]
              ],
              "shape": {
                "columns": 10,
                "rows": 91
              }
            },
            "text/html": [
              "<div>\n",
              "<style scoped>\n",
              "    .dataframe tbody tr th:only-of-type {\n",
              "        vertical-align: middle;\n",
              "    }\n",
              "\n",
              "    .dataframe tbody tr th {\n",
              "        vertical-align: top;\n",
              "    }\n",
              "\n",
              "    .dataframe thead th {\n",
              "        text-align: right;\n",
              "    }\n",
              "</style>\n",
              "<table border=\"1\" class=\"dataframe\">\n",
              "  <thead>\n",
              "    <tr style=\"text-align: right;\">\n",
              "      <th></th>\n",
              "      <th>Rank</th>\n",
              "      <th>Country</th>\n",
              "      <th>Country Code</th>\n",
              "      <th>Continent</th>\n",
              "      <th>Gold</th>\n",
              "      <th>Silver</th>\n",
              "      <th>Bronze</th>\n",
              "      <th>Total</th>\n",
              "      <th>Population</th>\n",
              "      <th>GDP per capita (current US$)</th>\n",
              "    </tr>\n",
              "  </thead>\n",
              "  <tbody>\n",
              "    <tr>\n",
              "      <th>90</th>\n",
              "      <td>84</td>\n",
              "      <td>Zambia</td>\n",
              "      <td>ZAM</td>\n",
              "      <td>Africa</td>\n",
              "      <td>0</td>\n",
              "      <td>0</td>\n",
              "      <td>1</td>\n",
              "      <td>1</td>\n",
              "      <td>2.056974e+07</td>\n",
              "      <td>1237.426046</td>\n",
              "    </tr>\n",
              "    <tr>\n",
              "      <th>61</th>\n",
              "      <td>62</td>\n",
              "      <td>Dominica</td>\n",
              "      <td>DMA</td>\n",
              "      <td>North America</td>\n",
              "      <td>1</td>\n",
              "      <td>0</td>\n",
              "      <td>0</td>\n",
              "      <td>1</td>\n",
              "      <td>7.304000e+04</td>\n",
              "      <td>8106.886958</td>\n",
              "    </tr>\n",
              "    <tr>\n",
              "      <th>62</th>\n",
              "      <td>62</td>\n",
              "      <td>Pakistan</td>\n",
              "      <td>PKN</td>\n",
              "      <td>Asia</td>\n",
              "      <td>1</td>\n",
              "      <td>0</td>\n",
              "      <td>0</td>\n",
              "      <td>1</td>\n",
              "      <td>2.404857e+08</td>\n",
              "      <td>1452.374849</td>\n",
              "    </tr>\n",
              "    <tr>\n",
              "      <th>89</th>\n",
              "      <td>84</td>\n",
              "      <td>Slovakia</td>\n",
              "      <td>SVK</td>\n",
              "      <td>Europe</td>\n",
              "      <td>0</td>\n",
              "      <td>0</td>\n",
              "      <td>1</td>\n",
              "      <td>1</td>\n",
              "      <td>5.426740e+06</td>\n",
              "      <td>21290.114290</td>\n",
              "    </tr>\n",
              "    <tr>\n",
              "      <th>73</th>\n",
              "      <td>74</td>\n",
              "      <td>Cyprus</td>\n",
              "      <td>CYP</td>\n",
              "      <td>Europe</td>\n",
              "      <td>0</td>\n",
              "      <td>1</td>\n",
              "      <td>0</td>\n",
              "      <td>1</td>\n",
              "      <td>1.260138e+06</td>\n",
              "      <td>31439.386720</td>\n",
              "    </tr>\n",
              "    <tr>\n",
              "      <th>...</th>\n",
              "      <td>...</td>\n",
              "      <td>...</td>\n",
              "      <td>...</td>\n",
              "      <td>...</td>\n",
              "      <td>...</td>\n",
              "      <td>...</td>\n",
              "      <td>...</td>\n",
              "      <td>...</td>\n",
              "      <td>...</td>\n",
              "      <td>...</td>\n",
              "    </tr>\n",
              "    <tr>\n",
              "      <th>3</th>\n",
              "      <td>4</td>\n",
              "      <td>Australia</td>\n",
              "      <td>AUS</td>\n",
              "      <td>Oceania</td>\n",
              "      <td>18</td>\n",
              "      <td>19</td>\n",
              "      <td>16</td>\n",
              "      <td>53</td>\n",
              "      <td>2.663854e+07</td>\n",
              "      <td>59480.901440</td>\n",
              "    </tr>\n",
              "    <tr>\n",
              "      <th>4</th>\n",
              "      <td>5</td>\n",
              "      <td>France</td>\n",
              "      <td>FRA</td>\n",
              "      <td>Europe</td>\n",
              "      <td>16</td>\n",
              "      <td>26</td>\n",
              "      <td>22</td>\n",
              "      <td>64</td>\n",
              "      <td>6.817023e+07</td>\n",
              "      <td>41738.604420</td>\n",
              "    </tr>\n",
              "    <tr>\n",
              "      <th>6</th>\n",
              "      <td>7</td>\n",
              "      <td>Great Britain</td>\n",
              "      <td>GBG</td>\n",
              "      <td>Europe</td>\n",
              "      <td>14</td>\n",
              "      <td>22</td>\n",
              "      <td>29</td>\n",
              "      <td>65</td>\n",
              "      <td>6.697000e+07</td>\n",
              "      <td>46125.260000</td>\n",
              "    </tr>\n",
              "    <tr>\n",
              "      <th>1</th>\n",
              "      <td>2</td>\n",
              "      <td>China</td>\n",
              "      <td>CHN</td>\n",
              "      <td>Asia</td>\n",
              "      <td>40</td>\n",
              "      <td>27</td>\n",
              "      <td>24</td>\n",
              "      <td>91</td>\n",
              "      <td>1.410710e+09</td>\n",
              "      <td>11689.345810</td>\n",
              "    </tr>\n",
              "    <tr>\n",
              "      <th>0</th>\n",
              "      <td>1</td>\n",
              "      <td>United States</td>\n",
              "      <td>US</td>\n",
              "      <td>North America</td>\n",
              "      <td>40</td>\n",
              "      <td>44</td>\n",
              "      <td>42</td>\n",
              "      <td>126</td>\n",
              "      <td>3.349149e+08</td>\n",
              "      <td>71972.641370</td>\n",
              "    </tr>\n",
              "  </tbody>\n",
              "</table>\n",
              "<p>91 rows × 10 columns</p>\n",
              "</div>"
            ],
            "text/plain": [
              "    Rank        Country Country Code      Continent  Gold  Silver  Bronze  \\\n",
              "90    84         Zambia          ZAM         Africa     0       0       1   \n",
              "61    62       Dominica          DMA  North America     1       0       0   \n",
              "62    62       Pakistan          PKN           Asia     1       0       0   \n",
              "89    84       Slovakia          SVK         Europe     0       0       1   \n",
              "73    74         Cyprus          CYP         Europe     0       1       0   \n",
              "..   ...            ...          ...            ...   ...     ...     ...   \n",
              "3      4      Australia          AUS        Oceania    18      19      16   \n",
              "4      5         France          FRA         Europe    16      26      22   \n",
              "6      7  Great Britain          GBG         Europe    14      22      29   \n",
              "1      2          China          CHN           Asia    40      27      24   \n",
              "0      1  United States           US  North America    40      44      42   \n",
              "\n",
              "    Total    Population  GDP per capita (current US$)  \n",
              "90      1  2.056974e+07                   1237.426046  \n",
              "61      1  7.304000e+04                   8106.886958  \n",
              "62      1  2.404857e+08                   1452.374849  \n",
              "89      1  5.426740e+06                  21290.114290  \n",
              "73      1  1.260138e+06                  31439.386720  \n",
              "..    ...           ...                           ...  \n",
              "3      53  2.663854e+07                  59480.901440  \n",
              "4      64  6.817023e+07                  41738.604420  \n",
              "6      65  6.697000e+07                  46125.260000  \n",
              "1      91  1.410710e+09                  11689.345810  \n",
              "0     126  3.349149e+08                  71972.641370  \n",
              "\n",
              "[91 rows x 10 columns]"
            ]
          },
          "execution_count": 21,
          "metadata": {},
          "output_type": "execute_result"
        }
      ],
      "source": [
        "# sort the table according to the values in a specific column\n",
        "olympics_df.sort_values(by ='Total')"
      ]
    },
    {
      "cell_type": "code",
      "execution_count": null,
      "metadata": {
        "id": "Xl8BfsdLr7Hr"
      },
      "outputs": [
        {
          "data": {
            "application/vnd.microsoft.datawrangler.viewer.v0+json": {
              "columns": [
                {
                  "name": "index",
                  "rawType": "int64",
                  "type": "integer"
                },
                {
                  "name": "Rank",
                  "rawType": "int64",
                  "type": "integer"
                },
                {
                  "name": "Country",
                  "rawType": "object",
                  "type": "string"
                },
                {
                  "name": "Country Code",
                  "rawType": "object",
                  "type": "string"
                },
                {
                  "name": "Continent",
                  "rawType": "object",
                  "type": "string"
                },
                {
                  "name": "Gold",
                  "rawType": "int64",
                  "type": "integer"
                },
                {
                  "name": "Silver",
                  "rawType": "int64",
                  "type": "integer"
                },
                {
                  "name": "Bronze",
                  "rawType": "int64",
                  "type": "integer"
                },
                {
                  "name": "Total",
                  "rawType": "int64",
                  "type": "integer"
                },
                {
                  "name": "Population",
                  "rawType": "float64",
                  "type": "float"
                },
                {
                  "name": "GDP per capita (current US$)",
                  "rawType": "float64",
                  "type": "float"
                }
              ],
              "conversionMethod": "pd.DataFrame",
              "ref": "9786afbf-21e3-4ff2-906e-9438f74ae4b1",
              "rows": [
                [
                  "0",
                  "1",
                  "United States",
                  "US",
                  "North America",
                  "40",
                  "44",
                  "42",
                  "126",
                  "334914895.0",
                  "71972.64137"
                ],
                [
                  "1",
                  "2",
                  "China",
                  "CHN",
                  "Asia",
                  "40",
                  "27",
                  "24",
                  "91",
                  "1410710000.0",
                  "11689.34581"
                ],
                [
                  "6",
                  "7",
                  "Great Britain",
                  "GBG",
                  "Europe",
                  "14",
                  "22",
                  "29",
                  "65",
                  "66970000.0",
                  "46125.26"
                ],
                [
                  "4",
                  "5",
                  "France",
                  "FRA",
                  "Europe",
                  "16",
                  "26",
                  "22",
                  "64",
                  "68170228.0",
                  "41738.60442"
                ],
                [
                  "3",
                  "4",
                  "Australia",
                  "AUS",
                  "Oceania",
                  "18",
                  "19",
                  "16",
                  "53",
                  "26638544.0",
                  "59480.90144"
                ],
                [
                  "2",
                  "3",
                  "Japan",
                  "JPN",
                  "Asia",
                  "20",
                  "12",
                  "13",
                  "45",
                  "124516650.0",
                  "37673.3847"
                ],
                [
                  "8",
                  "9",
                  "Italy",
                  "ITA",
                  "Europe",
                  "12",
                  "13",
                  "15",
                  "40",
                  "58761146.0",
                  "35095.94639"
                ],
                [
                  "5",
                  "6",
                  "Netherlands",
                  "NED",
                  "Europe",
                  "15",
                  "7",
                  "12",
                  "34",
                  "17879488.0",
                  "56585.69168"
                ],
                [
                  "9",
                  "10",
                  "Germany",
                  "GER",
                  "Europe",
                  "12",
                  "13",
                  "8",
                  "33",
                  "84482267.0",
                  "49289.02237"
                ],
                [
                  "7",
                  "8",
                  "South Korea",
                  "KOR",
                  "Asia",
                  "13",
                  "9",
                  "10",
                  "32",
                  "51712619.0",
                  "32853.0586"
                ],
                [
                  "11",
                  "12",
                  "Canada",
                  "CAN",
                  "North America",
                  "9",
                  "7",
                  "11",
                  "27",
                  "40097761.0",
                  "50253.72868"
                ],
                [
                  "19",
                  "20",
                  "Brazil",
                  "BRZ",
                  "South America",
                  "3",
                  "7",
                  "10",
                  "20",
                  "216422446.0",
                  "8534.605259"
                ],
                [
                  "10",
                  "11",
                  "New Zealand",
                  "NZ",
                  "Oceania",
                  "10",
                  "7",
                  "3",
                  "20",
                  "5223100.0",
                  "46180.28448"
                ],
                [
                  "13",
                  "14",
                  "Hungary",
                  "HUN",
                  "Europe",
                  "6",
                  "7",
                  "6",
                  "19",
                  "9589872.0",
                  "18435.26151"
                ],
                [
                  "14",
                  "15",
                  "Spain",
                  "SPA",
                  "Europe",
                  "5",
                  "4",
                  "9",
                  "18",
                  "48373336.0",
                  "29881.23276"
                ],
                [
                  "12",
                  "13",
                  "Uzbekistan",
                  "UZB",
                  "Asia",
                  "8",
                  "2",
                  "3",
                  "13",
                  "36412350.0",
                  "2064.040542"
                ],
                [
                  "20",
                  "21",
                  "Iran",
                  "IRN",
                  "Asia",
                  "3",
                  "6",
                  "3",
                  "12",
                  "89172767.0",
                  "3855.675365"
                ],
                [
                  "21",
                  "22",
                  "Ukraine",
                  "UKR",
                  "Europe",
                  "3",
                  "5",
                  "4",
                  "12",
                  "37000000.0",
                  "4399.675732"
                ],
                [
                  "16",
                  "17",
                  "Kenya",
                  "KEN",
                  "Africa",
                  "4",
                  "2",
                  "5",
                  "11",
                  "55100586.0",
                  "2005.037898"
                ],
                [
                  "15",
                  "16",
                  "Sweden",
                  "SWE",
                  "Europe",
                  "4",
                  "4",
                  "3",
                  "11",
                  "10536632.0",
                  "55759.95411"
                ],
                [
                  "41",
                  "42",
                  "Poland",
                  "POL",
                  "Europe",
                  "1",
                  "4",
                  "5",
                  "10",
                  "36685849.0",
                  "18082.49396"
                ],
                [
                  "24",
                  "25",
                  "Belgium",
                  "BEL",
                  "Europe",
                  "3",
                  "1",
                  "6",
                  "10",
                  "11822592.0",
                  "49502.181"
                ],
                [
                  "31",
                  "32",
                  "Cuba",
                  "CUB",
                  "North America",
                  "2",
                  "1",
                  "6",
                  "9",
                  "11194449.0",
                  "9319.476507"
                ],
                [
                  "22",
                  "23",
                  "Romania",
                  "ROM",
                  "Europe",
                  "3",
                  "4",
                  "2",
                  "9",
                  "19056116.0",
                  "15012.76132"
                ],
                [
                  "28",
                  "29",
                  "Denmark",
                  "DEN",
                  "Europe",
                  "2",
                  "2",
                  "5",
                  "9",
                  "5946952.0",
                  "65091.13215"
                ],
                [
                  "47",
                  "48",
                  "Switzerland",
                  "SWI",
                  "Europe",
                  "1",
                  "2",
                  "5",
                  "8",
                  "8849852.0",
                  "91344.19871"
                ],
                [
                  "50",
                  "51",
                  "Greece",
                  "GRE",
                  "Europe",
                  "1",
                  "1",
                  "6",
                  "8",
                  "10361295.0",
                  "20185.82885"
                ],
                [
                  "63",
                  "64",
                  "Turkey",
                  "TUR",
                  "Europe",
                  "0",
                  "3",
                  "5",
                  "8",
                  "85326000.0",
                  "10251.53009"
                ],
                [
                  "17",
                  "18",
                  "Norway",
                  "NOR",
                  "Europe",
                  "4",
                  "1",
                  "3",
                  "8",
                  "5519594.0",
                  "86920.74627"
                ],
                [
                  "40",
                  "41",
                  "Israel",
                  "ISR",
                  "Asia",
                  "1",
                  "5",
                  "1",
                  "7",
                  "9756700.0",
                  "49724.23102"
                ],
                [
                  "34",
                  "35",
                  "Chinese Taipei",
                  "TPE",
                  "Asia",
                  "2",
                  "0",
                  "5",
                  "7",
                  null,
                  null
                ],
                [
                  "18",
                  "19",
                  "Ireland",
                  "IRE",
                  "Europe",
                  "4",
                  "0",
                  "3",
                  "7",
                  "5262382.0",
                  "95298.27216"
                ],
                [
                  "29",
                  "30",
                  "Azerbaijan",
                  "AZE",
                  "Europe",
                  "2",
                  "2",
                  "3",
                  "7",
                  "10112555.0",
                  "5873.877509"
                ],
                [
                  "25",
                  "26",
                  "Bulgaria",
                  "BUL",
                  "Europe",
                  "3",
                  "1",
                  "3",
                  "7",
                  "6430370.0",
                  "12402.81308"
                ],
                [
                  "23",
                  "24",
                  "Georgia",
                  "GEO",
                  "Europe",
                  "3",
                  "3",
                  "1",
                  "7",
                  "3760365.0",
                  "5795.191456"
                ],
                [
                  "42",
                  "43",
                  "Kazakhstan",
                  "KAZ",
                  "Asia",
                  "1",
                  "3",
                  "3",
                  "7",
                  "19900177.0",
                  "10765.2318"
                ],
                [
                  "30",
                  "30",
                  "Croatia",
                  "CRO",
                  "Europe",
                  "2",
                  "2",
                  "3",
                  "7",
                  "3853200.0",
                  "17535.75464"
                ],
                [
                  "67",
                  "68",
                  "North Korea",
                  "PRK",
                  "Asia",
                  "0",
                  "2",
                  "4",
                  "6",
                  "26160821.0",
                  "1217.0"
                ],
                [
                  "68",
                  "68",
                  "Kyrgyzstan",
                  "KGZ",
                  "Asia",
                  "0",
                  "2",
                  "4",
                  "6",
                  "7100800.0",
                  "1556.72393"
                ],
                [
                  "70",
                  "71",
                  "India",
                  "IND",
                  "Asia",
                  "0",
                  "1",
                  "5",
                  "6",
                  "1428627663.0",
                  "2213.409889"
                ],
                [
                  "44",
                  "44",
                  "South Africa",
                  "SA",
                  "Africa",
                  "1",
                  "3",
                  "2",
                  "6",
                  "60414495.0",
                  "6509.769746"
                ],
                [
                  "43",
                  "44",
                  "Jamaica",
                  "JAM",
                  "North America",
                  "1",
                  "3",
                  "2",
                  "6",
                  "2825544.0",
                  "5725.686596"
                ],
                [
                  "45",
                  "44",
                  "Thailand",
                  "THA",
                  "Asia",
                  "1",
                  "3",
                  "2",
                  "6",
                  "71801279.0",
                  "7157.159545"
                ],
                [
                  "64",
                  "65",
                  "Mexico",
                  "MEX",
                  "North America",
                  "0",
                  "3",
                  "2",
                  "5",
                  "128455567.0",
                  "11019.2336"
                ],
                [
                  "27",
                  "28",
                  "Czech Republic",
                  "CZE",
                  "Europe",
                  "3",
                  "0",
                  "2",
                  "5",
                  "10873689.0",
                  "26226.85611"
                ],
                [
                  "48",
                  "49",
                  "Ecuador",
                  "ECU",
                  "South America",
                  "1",
                  "2",
                  "2",
                  "5",
                  "18190484.0",
                  "6140.120833"
                ],
                [
                  "35",
                  "36",
                  "Austria",
                  "AUT",
                  "Europe",
                  "2",
                  "0",
                  "3",
                  "5",
                  "9132383.0",
                  "52193.1247"
                ],
                [
                  "26",
                  "27",
                  "Serbia",
                  "SER",
                  "Europe",
                  "3",
                  "1",
                  "1",
                  "5",
                  "6618026.0",
                  "9056.522322"
                ],
                [
                  "71",
                  "72",
                  "Moldova",
                  "MDA",
                  "Europe",
                  "0",
                  "1",
                  "3",
                  "4",
                  "2486891.0",
                  "5284.329415"
                ],
                [
                  "65",
                  "66",
                  "Armenia",
                  "ARM",
                  "Europe",
                  "0",
                  "3",
                  "1",
                  "4",
                  "2777970.0",
                  "6008.194534"
                ]
              ],
              "shape": {
                "columns": 10,
                "rows": 91
              }
            },
            "text/html": [
              "<div>\n",
              "<style scoped>\n",
              "    .dataframe tbody tr th:only-of-type {\n",
              "        vertical-align: middle;\n",
              "    }\n",
              "\n",
              "    .dataframe tbody tr th {\n",
              "        vertical-align: top;\n",
              "    }\n",
              "\n",
              "    .dataframe thead th {\n",
              "        text-align: right;\n",
              "    }\n",
              "</style>\n",
              "<table border=\"1\" class=\"dataframe\">\n",
              "  <thead>\n",
              "    <tr style=\"text-align: right;\">\n",
              "      <th></th>\n",
              "      <th>Rank</th>\n",
              "      <th>Country</th>\n",
              "      <th>Country Code</th>\n",
              "      <th>Continent</th>\n",
              "      <th>Gold</th>\n",
              "      <th>Silver</th>\n",
              "      <th>Bronze</th>\n",
              "      <th>Total</th>\n",
              "      <th>Population</th>\n",
              "      <th>GDP per capita (current US$)</th>\n",
              "    </tr>\n",
              "  </thead>\n",
              "  <tbody>\n",
              "    <tr>\n",
              "      <th>0</th>\n",
              "      <td>1</td>\n",
              "      <td>United States</td>\n",
              "      <td>US</td>\n",
              "      <td>North America</td>\n",
              "      <td>40</td>\n",
              "      <td>44</td>\n",
              "      <td>42</td>\n",
              "      <td>126</td>\n",
              "      <td>3.349149e+08</td>\n",
              "      <td>71972.641370</td>\n",
              "    </tr>\n",
              "    <tr>\n",
              "      <th>1</th>\n",
              "      <td>2</td>\n",
              "      <td>China</td>\n",
              "      <td>CHN</td>\n",
              "      <td>Asia</td>\n",
              "      <td>40</td>\n",
              "      <td>27</td>\n",
              "      <td>24</td>\n",
              "      <td>91</td>\n",
              "      <td>1.410710e+09</td>\n",
              "      <td>11689.345810</td>\n",
              "    </tr>\n",
              "    <tr>\n",
              "      <th>6</th>\n",
              "      <td>7</td>\n",
              "      <td>Great Britain</td>\n",
              "      <td>GBG</td>\n",
              "      <td>Europe</td>\n",
              "      <td>14</td>\n",
              "      <td>22</td>\n",
              "      <td>29</td>\n",
              "      <td>65</td>\n",
              "      <td>6.697000e+07</td>\n",
              "      <td>46125.260000</td>\n",
              "    </tr>\n",
              "    <tr>\n",
              "      <th>4</th>\n",
              "      <td>5</td>\n",
              "      <td>France</td>\n",
              "      <td>FRA</td>\n",
              "      <td>Europe</td>\n",
              "      <td>16</td>\n",
              "      <td>26</td>\n",
              "      <td>22</td>\n",
              "      <td>64</td>\n",
              "      <td>6.817023e+07</td>\n",
              "      <td>41738.604420</td>\n",
              "    </tr>\n",
              "    <tr>\n",
              "      <th>3</th>\n",
              "      <td>4</td>\n",
              "      <td>Australia</td>\n",
              "      <td>AUS</td>\n",
              "      <td>Oceania</td>\n",
              "      <td>18</td>\n",
              "      <td>19</td>\n",
              "      <td>16</td>\n",
              "      <td>53</td>\n",
              "      <td>2.663854e+07</td>\n",
              "      <td>59480.901440</td>\n",
              "    </tr>\n",
              "    <tr>\n",
              "      <th>...</th>\n",
              "      <td>...</td>\n",
              "      <td>...</td>\n",
              "      <td>...</td>\n",
              "      <td>...</td>\n",
              "      <td>...</td>\n",
              "      <td>...</td>\n",
              "      <td>...</td>\n",
              "      <td>...</td>\n",
              "      <td>...</td>\n",
              "      <td>...</td>\n",
              "    </tr>\n",
              "    <tr>\n",
              "      <th>62</th>\n",
              "      <td>62</td>\n",
              "      <td>Pakistan</td>\n",
              "      <td>PKN</td>\n",
              "      <td>Asia</td>\n",
              "      <td>1</td>\n",
              "      <td>0</td>\n",
              "      <td>0</td>\n",
              "      <td>1</td>\n",
              "      <td>2.404857e+08</td>\n",
              "      <td>1452.374849</td>\n",
              "    </tr>\n",
              "    <tr>\n",
              "      <th>75</th>\n",
              "      <td>74</td>\n",
              "      <td>Jordan</td>\n",
              "      <td>JOR</td>\n",
              "      <td>Asia</td>\n",
              "      <td>0</td>\n",
              "      <td>1</td>\n",
              "      <td>0</td>\n",
              "      <td>1</td>\n",
              "      <td>1.133705e+07</td>\n",
              "      <td>4220.834185</td>\n",
              "    </tr>\n",
              "    <tr>\n",
              "      <th>74</th>\n",
              "      <td>74</td>\n",
              "      <td>Fiji</td>\n",
              "      <td>FIJ</td>\n",
              "      <td>Oceania</td>\n",
              "      <td>0</td>\n",
              "      <td>1</td>\n",
              "      <td>0</td>\n",
              "      <td>1</td>\n",
              "      <td>9.363750e+05</td>\n",
              "      <td>5324.757646</td>\n",
              "    </tr>\n",
              "    <tr>\n",
              "      <th>73</th>\n",
              "      <td>74</td>\n",
              "      <td>Cyprus</td>\n",
              "      <td>CYP</td>\n",
              "      <td>Europe</td>\n",
              "      <td>0</td>\n",
              "      <td>1</td>\n",
              "      <td>0</td>\n",
              "      <td>1</td>\n",
              "      <td>1.260138e+06</td>\n",
              "      <td>31439.386720</td>\n",
              "    </tr>\n",
              "    <tr>\n",
              "      <th>90</th>\n",
              "      <td>84</td>\n",
              "      <td>Zambia</td>\n",
              "      <td>ZAM</td>\n",
              "      <td>Africa</td>\n",
              "      <td>0</td>\n",
              "      <td>0</td>\n",
              "      <td>1</td>\n",
              "      <td>1</td>\n",
              "      <td>2.056974e+07</td>\n",
              "      <td>1237.426046</td>\n",
              "    </tr>\n",
              "  </tbody>\n",
              "</table>\n",
              "<p>91 rows × 10 columns</p>\n",
              "</div>"
            ],
            "text/plain": [
              "    Rank        Country Country Code      Continent  Gold  Silver  Bronze  \\\n",
              "0      1  United States           US  North America    40      44      42   \n",
              "1      2          China          CHN           Asia    40      27      24   \n",
              "6      7  Great Britain          GBG         Europe    14      22      29   \n",
              "4      5         France          FRA         Europe    16      26      22   \n",
              "3      4      Australia          AUS        Oceania    18      19      16   \n",
              "..   ...            ...          ...            ...   ...     ...     ...   \n",
              "62    62       Pakistan          PKN           Asia     1       0       0   \n",
              "75    74         Jordan          JOR           Asia     0       1       0   \n",
              "74    74           Fiji          FIJ        Oceania     0       1       0   \n",
              "73    74         Cyprus          CYP         Europe     0       1       0   \n",
              "90    84         Zambia          ZAM         Africa     0       0       1   \n",
              "\n",
              "    Total    Population  GDP per capita (current US$)  \n",
              "0     126  3.349149e+08                  71972.641370  \n",
              "1      91  1.410710e+09                  11689.345810  \n",
              "6      65  6.697000e+07                  46125.260000  \n",
              "4      64  6.817023e+07                  41738.604420  \n",
              "3      53  2.663854e+07                  59480.901440  \n",
              "..    ...           ...                           ...  \n",
              "62      1  2.404857e+08                   1452.374849  \n",
              "75      1  1.133705e+07                   4220.834185  \n",
              "74      1  9.363750e+05                   5324.757646  \n",
              "73      1  1.260138e+06                  31439.386720  \n",
              "90      1  2.056974e+07                   1237.426046  \n",
              "\n",
              "[91 rows x 10 columns]"
            ]
          },
          "execution_count": 22,
          "metadata": {},
          "output_type": "execute_result"
        }
      ],
      "source": [
        "# sort the table according to the values in a specific column in a descending order\n",
        "olympics_df.sort_values('Total', ascending=False)"
      ]
    },
    {
      "cell_type": "markdown",
      "metadata": {
        "id": "dv3ZgfOcDSTm"
      },
      "source": [
        "You can concatenate commands"
      ]
    },
    {
      "cell_type": "code",
      "execution_count": null,
      "metadata": {
        "id": "KsgfAMiTsfta"
      },
      "outputs": [
        {
          "data": {
            "application/vnd.microsoft.datawrangler.viewer.v0+json": {
              "columns": [
                {
                  "name": "index",
                  "rawType": "int64",
                  "type": "integer"
                },
                {
                  "name": "Country",
                  "rawType": "object",
                  "type": "string"
                },
                {
                  "name": "Total",
                  "rawType": "int64",
                  "type": "integer"
                }
              ],
              "conversionMethod": "pd.DataFrame",
              "ref": "6411bcbf-e44c-46fd-b7e9-d9c5e1e42917",
              "rows": [
                [
                  "0",
                  "United States",
                  "126"
                ],
                [
                  "1",
                  "China",
                  "91"
                ],
                [
                  "6",
                  "Great Britain",
                  "65"
                ],
                [
                  "4",
                  "France",
                  "64"
                ],
                [
                  "3",
                  "Australia",
                  "53"
                ],
                [
                  "2",
                  "Japan",
                  "45"
                ],
                [
                  "8",
                  "Italy",
                  "40"
                ],
                [
                  "5",
                  "Netherlands",
                  "34"
                ],
                [
                  "9",
                  "Germany",
                  "33"
                ],
                [
                  "7",
                  "South Korea",
                  "32"
                ],
                [
                  "11",
                  "Canada",
                  "27"
                ],
                [
                  "19",
                  "Brazil",
                  "20"
                ],
                [
                  "10",
                  "New Zealand",
                  "20"
                ],
                [
                  "13",
                  "Hungary",
                  "19"
                ],
                [
                  "14",
                  "Spain",
                  "18"
                ],
                [
                  "12",
                  "Uzbekistan",
                  "13"
                ],
                [
                  "20",
                  "Iran",
                  "12"
                ],
                [
                  "21",
                  "Ukraine",
                  "12"
                ],
                [
                  "16",
                  "Kenya",
                  "11"
                ],
                [
                  "15",
                  "Sweden",
                  "11"
                ],
                [
                  "41",
                  "Poland",
                  "10"
                ],
                [
                  "24",
                  "Belgium",
                  "10"
                ],
                [
                  "31",
                  "Cuba",
                  "9"
                ],
                [
                  "22",
                  "Romania",
                  "9"
                ],
                [
                  "28",
                  "Denmark",
                  "9"
                ],
                [
                  "47",
                  "Switzerland",
                  "8"
                ],
                [
                  "50",
                  "Greece",
                  "8"
                ],
                [
                  "63",
                  "Turkey",
                  "8"
                ],
                [
                  "17",
                  "Norway",
                  "8"
                ],
                [
                  "40",
                  "Israel",
                  "7"
                ],
                [
                  "34",
                  "Chinese Taipei",
                  "7"
                ],
                [
                  "18",
                  "Ireland",
                  "7"
                ],
                [
                  "29",
                  "Azerbaijan",
                  "7"
                ],
                [
                  "25",
                  "Bulgaria",
                  "7"
                ],
                [
                  "23",
                  "Georgia",
                  "7"
                ],
                [
                  "42",
                  "Kazakhstan",
                  "7"
                ],
                [
                  "30",
                  "Croatia",
                  "7"
                ],
                [
                  "67",
                  "North Korea",
                  "6"
                ],
                [
                  "68",
                  "Kyrgyzstan",
                  "6"
                ],
                [
                  "70",
                  "India",
                  "6"
                ],
                [
                  "44",
                  "South Africa",
                  "6"
                ],
                [
                  "43",
                  "Jamaica",
                  "6"
                ],
                [
                  "45",
                  "Thailand",
                  "6"
                ],
                [
                  "64",
                  "Mexico",
                  "5"
                ],
                [
                  "27",
                  "Czech Republic",
                  "5"
                ],
                [
                  "48",
                  "Ecuador",
                  "5"
                ],
                [
                  "35",
                  "Austria",
                  "5"
                ],
                [
                  "26",
                  "Serbia",
                  "5"
                ],
                [
                  "71",
                  "Moldova",
                  "4"
                ],
                [
                  "65",
                  "Armenia",
                  "4"
                ]
              ],
              "shape": {
                "columns": 2,
                "rows": 91
              }
            },
            "text/html": [
              "<div>\n",
              "<style scoped>\n",
              "    .dataframe tbody tr th:only-of-type {\n",
              "        vertical-align: middle;\n",
              "    }\n",
              "\n",
              "    .dataframe tbody tr th {\n",
              "        vertical-align: top;\n",
              "    }\n",
              "\n",
              "    .dataframe thead th {\n",
              "        text-align: right;\n",
              "    }\n",
              "</style>\n",
              "<table border=\"1\" class=\"dataframe\">\n",
              "  <thead>\n",
              "    <tr style=\"text-align: right;\">\n",
              "      <th></th>\n",
              "      <th>Country</th>\n",
              "      <th>Total</th>\n",
              "    </tr>\n",
              "  </thead>\n",
              "  <tbody>\n",
              "    <tr>\n",
              "      <th>0</th>\n",
              "      <td>United States</td>\n",
              "      <td>126</td>\n",
              "    </tr>\n",
              "    <tr>\n",
              "      <th>1</th>\n",
              "      <td>China</td>\n",
              "      <td>91</td>\n",
              "    </tr>\n",
              "    <tr>\n",
              "      <th>6</th>\n",
              "      <td>Great Britain</td>\n",
              "      <td>65</td>\n",
              "    </tr>\n",
              "    <tr>\n",
              "      <th>4</th>\n",
              "      <td>France</td>\n",
              "      <td>64</td>\n",
              "    </tr>\n",
              "    <tr>\n",
              "      <th>3</th>\n",
              "      <td>Australia</td>\n",
              "      <td>53</td>\n",
              "    </tr>\n",
              "    <tr>\n",
              "      <th>...</th>\n",
              "      <td>...</td>\n",
              "      <td>...</td>\n",
              "    </tr>\n",
              "    <tr>\n",
              "      <th>62</th>\n",
              "      <td>Pakistan</td>\n",
              "      <td>1</td>\n",
              "    </tr>\n",
              "    <tr>\n",
              "      <th>75</th>\n",
              "      <td>Jordan</td>\n",
              "      <td>1</td>\n",
              "    </tr>\n",
              "    <tr>\n",
              "      <th>74</th>\n",
              "      <td>Fiji</td>\n",
              "      <td>1</td>\n",
              "    </tr>\n",
              "    <tr>\n",
              "      <th>73</th>\n",
              "      <td>Cyprus</td>\n",
              "      <td>1</td>\n",
              "    </tr>\n",
              "    <tr>\n",
              "      <th>90</th>\n",
              "      <td>Zambia</td>\n",
              "      <td>1</td>\n",
              "    </tr>\n",
              "  </tbody>\n",
              "</table>\n",
              "<p>91 rows × 2 columns</p>\n",
              "</div>"
            ],
            "text/plain": [
              "          Country  Total\n",
              "0   United States    126\n",
              "1           China     91\n",
              "6   Great Britain     65\n",
              "4          France     64\n",
              "3       Australia     53\n",
              "..            ...    ...\n",
              "62       Pakistan      1\n",
              "75         Jordan      1\n",
              "74           Fiji      1\n",
              "73         Cyprus      1\n",
              "90         Zambia      1\n",
              "\n",
              "[91 rows x 2 columns]"
            ]
          },
          "execution_count": 30,
          "metadata": {},
          "output_type": "execute_result"
        }
      ],
      "source": [
        "# select a two columns and sort accoring to the values of the one\n",
        "olympics_df[['Country', 'Total']].sort_values('Total', ascending=False)"
      ]
    },
    {
      "cell_type": "markdown",
      "metadata": {
        "id": "OpBgYHG1_Z79"
      },
      "source": [
        "**Filtering**"
      ]
    },
    {
      "cell_type": "code",
      "execution_count": null,
      "metadata": {
        "id": "WdeotUeWXNb9"
      },
      "outputs": [
        {
          "data": {
            "application/vnd.microsoft.datawrangler.viewer.v0+json": {
              "columns": [
                {
                  "name": "index",
                  "rawType": "int64",
                  "type": "integer"
                },
                {
                  "name": "Rank",
                  "rawType": "float64",
                  "type": "float"
                },
                {
                  "name": "Country",
                  "rawType": "object",
                  "type": "string"
                },
                {
                  "name": "Country Code",
                  "rawType": "object",
                  "type": "string"
                },
                {
                  "name": "Continent",
                  "rawType": "object",
                  "type": "string"
                },
                {
                  "name": "Gold",
                  "rawType": "float64",
                  "type": "float"
                },
                {
                  "name": "Silver",
                  "rawType": "float64",
                  "type": "float"
                },
                {
                  "name": "Bronze",
                  "rawType": "float64",
                  "type": "float"
                },
                {
                  "name": "Total",
                  "rawType": "float64",
                  "type": "float"
                },
                {
                  "name": "Population",
                  "rawType": "float64",
                  "type": "float"
                },
                {
                  "name": "GDP per capita (current US$)",
                  "rawType": "float64",
                  "type": "float"
                }
              ],
              "conversionMethod": "pd.DataFrame",
              "ref": "8dd95d90-e98c-4ebb-9178-af5227e9063d",
              "rows": [
                [
                  "0",
                  "1.0",
                  "United States",
                  "US",
                  "North America",
                  "40.0",
                  "44.0",
                  "42.0",
                  "126.0",
                  "334914895.0",
                  "71972.64137"
                ],
                [
                  "1",
                  "2.0",
                  "China",
                  "CHN",
                  "Asia",
                  "40.0",
                  "27.0",
                  "24.0",
                  "91.0",
                  "1410710000.0",
                  "11689.34581"
                ],
                [
                  "2",
                  "3.0",
                  "Japan",
                  "JPN",
                  "Asia",
                  "20.0",
                  "12.0",
                  "13.0",
                  "45.0",
                  "124516650.0",
                  "37673.3847"
                ],
                [
                  "3",
                  "4.0",
                  "Australia",
                  "AUS",
                  "Oceania",
                  "18.0",
                  "19.0",
                  "16.0",
                  "53.0",
                  "26638544.0",
                  "59480.90144"
                ],
                [
                  "4",
                  "5.0",
                  "France",
                  "FRA",
                  "Europe",
                  "16.0",
                  "26.0",
                  "22.0",
                  "64.0",
                  "68170228.0",
                  "41738.60442"
                ],
                [
                  "5",
                  "6.0",
                  "Netherlands",
                  "NED",
                  "Europe",
                  "15.0",
                  "7.0",
                  "12.0",
                  "34.0",
                  "17879488.0",
                  "56585.69168"
                ],
                [
                  "6",
                  "7.0",
                  "Great Britain",
                  "GBG",
                  "Europe",
                  "14.0",
                  "22.0",
                  "29.0",
                  "65.0",
                  "66970000.0",
                  "46125.26"
                ],
                [
                  "7",
                  "8.0",
                  "South Korea",
                  "KOR",
                  "Asia",
                  "13.0",
                  "9.0",
                  "10.0",
                  "32.0",
                  "51712619.0",
                  "32853.0586"
                ],
                [
                  "8",
                  "9.0",
                  "Italy",
                  "ITA",
                  "Europe",
                  "12.0",
                  "13.0",
                  "15.0",
                  "40.0",
                  "58761146.0",
                  "35095.94639"
                ],
                [
                  "9",
                  "10.0",
                  "Germany",
                  "GER",
                  "Europe",
                  "12.0",
                  "13.0",
                  "8.0",
                  "33.0",
                  "84482267.0",
                  "49289.02237"
                ]
              ],
              "shape": {
                "columns": 10,
                "rows": 10
              }
            },
            "text/html": [
              "<div>\n",
              "<style scoped>\n",
              "    .dataframe tbody tr th:only-of-type {\n",
              "        vertical-align: middle;\n",
              "    }\n",
              "\n",
              "    .dataframe tbody tr th {\n",
              "        vertical-align: top;\n",
              "    }\n",
              "\n",
              "    .dataframe thead th {\n",
              "        text-align: right;\n",
              "    }\n",
              "</style>\n",
              "<table border=\"1\" class=\"dataframe\">\n",
              "  <thead>\n",
              "    <tr style=\"text-align: right;\">\n",
              "      <th></th>\n",
              "      <th>Rank</th>\n",
              "      <th>Country</th>\n",
              "      <th>Country Code</th>\n",
              "      <th>Continent</th>\n",
              "      <th>Gold</th>\n",
              "      <th>Silver</th>\n",
              "      <th>Bronze</th>\n",
              "      <th>Total</th>\n",
              "      <th>Population</th>\n",
              "      <th>GDP per capita (current US$)</th>\n",
              "    </tr>\n",
              "  </thead>\n",
              "  <tbody>\n",
              "    <tr>\n",
              "      <th>0</th>\n",
              "      <td>1.0</td>\n",
              "      <td>United States</td>\n",
              "      <td>US</td>\n",
              "      <td>North America</td>\n",
              "      <td>40.0</td>\n",
              "      <td>44.0</td>\n",
              "      <td>42.0</td>\n",
              "      <td>126.0</td>\n",
              "      <td>3.349149e+08</td>\n",
              "      <td>71972.64137</td>\n",
              "    </tr>\n",
              "    <tr>\n",
              "      <th>1</th>\n",
              "      <td>2.0</td>\n",
              "      <td>China</td>\n",
              "      <td>CHN</td>\n",
              "      <td>Asia</td>\n",
              "      <td>40.0</td>\n",
              "      <td>27.0</td>\n",
              "      <td>24.0</td>\n",
              "      <td>91.0</td>\n",
              "      <td>1.410710e+09</td>\n",
              "      <td>11689.34581</td>\n",
              "    </tr>\n",
              "    <tr>\n",
              "      <th>2</th>\n",
              "      <td>3.0</td>\n",
              "      <td>Japan</td>\n",
              "      <td>JPN</td>\n",
              "      <td>Asia</td>\n",
              "      <td>20.0</td>\n",
              "      <td>12.0</td>\n",
              "      <td>13.0</td>\n",
              "      <td>45.0</td>\n",
              "      <td>1.245166e+08</td>\n",
              "      <td>37673.38470</td>\n",
              "    </tr>\n",
              "    <tr>\n",
              "      <th>3</th>\n",
              "      <td>4.0</td>\n",
              "      <td>Australia</td>\n",
              "      <td>AUS</td>\n",
              "      <td>Oceania</td>\n",
              "      <td>18.0</td>\n",
              "      <td>19.0</td>\n",
              "      <td>16.0</td>\n",
              "      <td>53.0</td>\n",
              "      <td>2.663854e+07</td>\n",
              "      <td>59480.90144</td>\n",
              "    </tr>\n",
              "    <tr>\n",
              "      <th>4</th>\n",
              "      <td>5.0</td>\n",
              "      <td>France</td>\n",
              "      <td>FRA</td>\n",
              "      <td>Europe</td>\n",
              "      <td>16.0</td>\n",
              "      <td>26.0</td>\n",
              "      <td>22.0</td>\n",
              "      <td>64.0</td>\n",
              "      <td>6.817023e+07</td>\n",
              "      <td>41738.60442</td>\n",
              "    </tr>\n",
              "    <tr>\n",
              "      <th>5</th>\n",
              "      <td>6.0</td>\n",
              "      <td>Netherlands</td>\n",
              "      <td>NED</td>\n",
              "      <td>Europe</td>\n",
              "      <td>15.0</td>\n",
              "      <td>7.0</td>\n",
              "      <td>12.0</td>\n",
              "      <td>34.0</td>\n",
              "      <td>1.787949e+07</td>\n",
              "      <td>56585.69168</td>\n",
              "    </tr>\n",
              "    <tr>\n",
              "      <th>6</th>\n",
              "      <td>7.0</td>\n",
              "      <td>Great Britain</td>\n",
              "      <td>GBG</td>\n",
              "      <td>Europe</td>\n",
              "      <td>14.0</td>\n",
              "      <td>22.0</td>\n",
              "      <td>29.0</td>\n",
              "      <td>65.0</td>\n",
              "      <td>6.697000e+07</td>\n",
              "      <td>46125.26000</td>\n",
              "    </tr>\n",
              "    <tr>\n",
              "      <th>7</th>\n",
              "      <td>8.0</td>\n",
              "      <td>South Korea</td>\n",
              "      <td>KOR</td>\n",
              "      <td>Asia</td>\n",
              "      <td>13.0</td>\n",
              "      <td>9.0</td>\n",
              "      <td>10.0</td>\n",
              "      <td>32.0</td>\n",
              "      <td>5.171262e+07</td>\n",
              "      <td>32853.05860</td>\n",
              "    </tr>\n",
              "    <tr>\n",
              "      <th>8</th>\n",
              "      <td>9.0</td>\n",
              "      <td>Italy</td>\n",
              "      <td>ITA</td>\n",
              "      <td>Europe</td>\n",
              "      <td>12.0</td>\n",
              "      <td>13.0</td>\n",
              "      <td>15.0</td>\n",
              "      <td>40.0</td>\n",
              "      <td>5.876115e+07</td>\n",
              "      <td>35095.94639</td>\n",
              "    </tr>\n",
              "    <tr>\n",
              "      <th>9</th>\n",
              "      <td>10.0</td>\n",
              "      <td>Germany</td>\n",
              "      <td>GER</td>\n",
              "      <td>Europe</td>\n",
              "      <td>12.0</td>\n",
              "      <td>13.0</td>\n",
              "      <td>8.0</td>\n",
              "      <td>33.0</td>\n",
              "      <td>8.448227e+07</td>\n",
              "      <td>49289.02237</td>\n",
              "    </tr>\n",
              "  </tbody>\n",
              "</table>\n",
              "</div>"
            ],
            "text/plain": [
              "   Rank        Country Country Code      Continent  Gold  Silver  Bronze  \\\n",
              "0   1.0  United States           US  North America  40.0    44.0    42.0   \n",
              "1   2.0          China          CHN           Asia  40.0    27.0    24.0   \n",
              "2   3.0          Japan          JPN           Asia  20.0    12.0    13.0   \n",
              "3   4.0      Australia          AUS        Oceania  18.0    19.0    16.0   \n",
              "4   5.0         France          FRA         Europe  16.0    26.0    22.0   \n",
              "5   6.0    Netherlands          NED         Europe  15.0     7.0    12.0   \n",
              "6   7.0  Great Britain          GBG         Europe  14.0    22.0    29.0   \n",
              "7   8.0    South Korea          KOR           Asia  13.0     9.0    10.0   \n",
              "8   9.0          Italy          ITA         Europe  12.0    13.0    15.0   \n",
              "9  10.0        Germany          GER         Europe  12.0    13.0     8.0   \n",
              "\n",
              "   Total    Population  GDP per capita (current US$)  \n",
              "0  126.0  3.349149e+08                   71972.64137  \n",
              "1   91.0  1.410710e+09                   11689.34581  \n",
              "2   45.0  1.245166e+08                   37673.38470  \n",
              "3   53.0  2.663854e+07                   59480.90144  \n",
              "4   64.0  6.817023e+07                   41738.60442  \n",
              "5   34.0  1.787949e+07                   56585.69168  \n",
              "6   65.0  6.697000e+07                   46125.26000  \n",
              "7   32.0  5.171262e+07                   32853.05860  \n",
              "8   40.0  5.876115e+07                   35095.94639  \n",
              "9   33.0  8.448227e+07                   49289.02237  "
            ]
          },
          "execution_count": 42,
          "metadata": {},
          "output_type": "execute_result"
        }
      ],
      "source": [
        "# filter rows\\instances according to the values of a specific column\n",
        "olympics_df.where(olympics_df['Gold'] > 10).dropna()"
      ]
    },
    {
      "cell_type": "code",
      "execution_count": null,
      "metadata": {
        "id": "JtnJUCKn-YzZ"
      },
      "outputs": [
        {
          "data": {
            "application/vnd.microsoft.datawrangler.viewer.v0+json": {
              "columns": [
                {
                  "name": "index",
                  "rawType": "int64",
                  "type": "integer"
                },
                {
                  "name": "Rank",
                  "rawType": "float64",
                  "type": "float"
                },
                {
                  "name": "Country",
                  "rawType": "object",
                  "type": "string"
                },
                {
                  "name": "Country Code",
                  "rawType": "object",
                  "type": "string"
                },
                {
                  "name": "Continent",
                  "rawType": "object",
                  "type": "string"
                },
                {
                  "name": "Gold",
                  "rawType": "float64",
                  "type": "float"
                },
                {
                  "name": "Silver",
                  "rawType": "float64",
                  "type": "float"
                },
                {
                  "name": "Bronze",
                  "rawType": "float64",
                  "type": "float"
                },
                {
                  "name": "Total",
                  "rawType": "float64",
                  "type": "float"
                },
                {
                  "name": "Population",
                  "rawType": "float64",
                  "type": "float"
                },
                {
                  "name": "GDP per capita (current US$)",
                  "rawType": "float64",
                  "type": "float"
                }
              ],
              "conversionMethod": "pd.DataFrame",
              "ref": "36b9ac2e-47a6-450d-b412-df492335d4d2",
              "rows": [
                [
                  "5",
                  "6.0",
                  "Netherlands",
                  "NED",
                  "Europe",
                  "15.0",
                  "7.0",
                  "12.0",
                  "34.0",
                  "17879488.0",
                  "56585.69168"
                ],
                [
                  "7",
                  "8.0",
                  "South Korea",
                  "KOR",
                  "Asia",
                  "13.0",
                  "9.0",
                  "10.0",
                  "32.0",
                  "51712619.0",
                  "32853.0586"
                ],
                [
                  "10",
                  "11.0",
                  "New Zealand",
                  "NZ",
                  "Oceania",
                  "10.0",
                  "7.0",
                  "3.0",
                  "20.0",
                  "5223100.0",
                  "46180.28448"
                ],
                [
                  "11",
                  "12.0",
                  "Canada",
                  "CAN",
                  "North America",
                  "9.0",
                  "7.0",
                  "11.0",
                  "27.0",
                  "40097761.0",
                  "50253.72868"
                ],
                [
                  "12",
                  "13.0",
                  "Uzbekistan",
                  "UZB",
                  "Asia",
                  "8.0",
                  "2.0",
                  "3.0",
                  "13.0",
                  "36412350.0",
                  "2064.040542"
                ],
                [
                  "13",
                  "14.0",
                  "Hungary",
                  "HUN",
                  "Europe",
                  "6.0",
                  "7.0",
                  "6.0",
                  "19.0",
                  "9589872.0",
                  "18435.26151"
                ],
                [
                  "14",
                  "15.0",
                  "Spain",
                  "SPA",
                  "Europe",
                  "5.0",
                  "4.0",
                  "9.0",
                  "18.0",
                  "48373336.0",
                  "29881.23276"
                ],
                [
                  "15",
                  "16.0",
                  "Sweden",
                  "SWE",
                  "Europe",
                  "4.0",
                  "4.0",
                  "3.0",
                  "11.0",
                  "10536632.0",
                  "55759.95411"
                ],
                [
                  "16",
                  "17.0",
                  "Kenya",
                  "KEN",
                  "Africa",
                  "4.0",
                  "2.0",
                  "5.0",
                  "11.0",
                  "55100586.0",
                  "2005.037898"
                ],
                [
                  "19",
                  "20.0",
                  "Brazil",
                  "BRZ",
                  "South America",
                  "3.0",
                  "7.0",
                  "10.0",
                  "20.0",
                  "216422446.0",
                  "8534.605259"
                ],
                [
                  "20",
                  "21.0",
                  "Iran",
                  "IRN",
                  "Asia",
                  "3.0",
                  "6.0",
                  "3.0",
                  "12.0",
                  "89172767.0",
                  "3855.675365"
                ],
                [
                  "21",
                  "22.0",
                  "Ukraine",
                  "UKR",
                  "Europe",
                  "3.0",
                  "5.0",
                  "4.0",
                  "12.0",
                  "37000000.0",
                  "4399.675732"
                ],
                [
                  "22",
                  "23.0",
                  "Romania",
                  "ROM",
                  "Europe",
                  "3.0",
                  "4.0",
                  "2.0",
                  "9.0",
                  "19056116.0",
                  "15012.76132"
                ],
                [
                  "23",
                  "24.0",
                  "Georgia",
                  "GEO",
                  "Europe",
                  "3.0",
                  "3.0",
                  "1.0",
                  "7.0",
                  "3760365.0",
                  "5795.191456"
                ],
                [
                  "28",
                  "29.0",
                  "Denmark",
                  "DEN",
                  "Europe",
                  "2.0",
                  "2.0",
                  "5.0",
                  "9.0",
                  "5946952.0",
                  "65091.13215"
                ],
                [
                  "29",
                  "30.0",
                  "Azerbaijan",
                  "AZE",
                  "Europe",
                  "2.0",
                  "2.0",
                  "3.0",
                  "7.0",
                  "10112555.0",
                  "5873.877509"
                ],
                [
                  "30",
                  "30.0",
                  "Croatia",
                  "CRO",
                  "Europe",
                  "2.0",
                  "2.0",
                  "3.0",
                  "7.0",
                  "3853200.0",
                  "17535.75464"
                ],
                [
                  "40",
                  "41.0",
                  "Israel",
                  "ISR",
                  "Asia",
                  "1.0",
                  "5.0",
                  "1.0",
                  "7.0",
                  "9756700.0",
                  "49724.23102"
                ],
                [
                  "41",
                  "42.0",
                  "Poland",
                  "POL",
                  "Europe",
                  "1.0",
                  "4.0",
                  "5.0",
                  "10.0",
                  "36685849.0",
                  "18082.49396"
                ],
                [
                  "42",
                  "43.0",
                  "Kazakhstan",
                  "KAZ",
                  "Asia",
                  "1.0",
                  "3.0",
                  "3.0",
                  "7.0",
                  "19900177.0",
                  "10765.2318"
                ],
                [
                  "43",
                  "44.0",
                  "Jamaica",
                  "JAM",
                  "North America",
                  "1.0",
                  "3.0",
                  "2.0",
                  "6.0",
                  "2825544.0",
                  "5725.686596"
                ],
                [
                  "44",
                  "44.0",
                  "South Africa",
                  "SA",
                  "Africa",
                  "1.0",
                  "3.0",
                  "2.0",
                  "6.0",
                  "60414495.0",
                  "6509.769746"
                ],
                [
                  "45",
                  "44.0",
                  "Thailand",
                  "THA",
                  "Asia",
                  "1.0",
                  "3.0",
                  "2.0",
                  "6.0",
                  "71801279.0",
                  "7157.159545"
                ],
                [
                  "46",
                  "47.0",
                  "Ethiopia",
                  "ETH",
                  "Africa",
                  "1.0",
                  "3.0",
                  "0.0",
                  "4.0",
                  "126527060.0",
                  "1001.075906"
                ],
                [
                  "47",
                  "48.0",
                  "Switzerland",
                  "SWI",
                  "Europe",
                  "1.0",
                  "2.0",
                  "5.0",
                  "8.0",
                  "8849852.0",
                  "91344.19871"
                ],
                [
                  "48",
                  "49.0",
                  "Ecuador",
                  "ECU",
                  "South America",
                  "1.0",
                  "2.0",
                  "2.0",
                  "5.0",
                  "18190484.0",
                  "6140.120833"
                ],
                [
                  "49",
                  "50.0",
                  "Portugal",
                  "POR",
                  "Europe",
                  "1.0",
                  "2.0",
                  "1.0",
                  "4.0",
                  "10525347.0",
                  "24404.9535"
                ],
                [
                  "63",
                  "64.0",
                  "Turkey",
                  "TUR",
                  "Europe",
                  "0.0",
                  "3.0",
                  "5.0",
                  "8.0",
                  "85326000.0",
                  "10251.53009"
                ],
                [
                  "64",
                  "65.0",
                  "Mexico",
                  "MEX",
                  "North America",
                  "0.0",
                  "3.0",
                  "2.0",
                  "5.0",
                  "128455567.0",
                  "11019.2336"
                ],
                [
                  "65",
                  "66.0",
                  "Armenia",
                  "ARM",
                  "Europe",
                  "0.0",
                  "3.0",
                  "1.0",
                  "4.0",
                  "2777970.0",
                  "6008.194534"
                ],
                [
                  "66",
                  "66.0",
                  "Colombia",
                  "COL",
                  "South America",
                  "0.0",
                  "3.0",
                  "1.0",
                  "4.0",
                  "52085168.0",
                  "6312.888339"
                ],
                [
                  "67",
                  "68.0",
                  "North Korea",
                  "PRK",
                  "Asia",
                  "0.0",
                  "2.0",
                  "4.0",
                  "6.0",
                  "26160821.0",
                  "1217.0"
                ],
                [
                  "68",
                  "68.0",
                  "Kyrgyzstan",
                  "KGZ",
                  "Asia",
                  "0.0",
                  "2.0",
                  "4.0",
                  "6.0",
                  "7100800.0",
                  "1556.72393"
                ],
                [
                  "69",
                  "70.0",
                  "Lithuania",
                  "LTU",
                  "Europe",
                  "0.0",
                  "2.0",
                  "2.0",
                  "4.0",
                  "2871897.0",
                  "23205.7095"
                ]
              ],
              "shape": {
                "columns": 10,
                "rows": 34
              }
            },
            "text/html": [
              "<div>\n",
              "<style scoped>\n",
              "    .dataframe tbody tr th:only-of-type {\n",
              "        vertical-align: middle;\n",
              "    }\n",
              "\n",
              "    .dataframe tbody tr th {\n",
              "        vertical-align: top;\n",
              "    }\n",
              "\n",
              "    .dataframe thead th {\n",
              "        text-align: right;\n",
              "    }\n",
              "</style>\n",
              "<table border=\"1\" class=\"dataframe\">\n",
              "  <thead>\n",
              "    <tr style=\"text-align: right;\">\n",
              "      <th></th>\n",
              "      <th>Rank</th>\n",
              "      <th>Country</th>\n",
              "      <th>Country Code</th>\n",
              "      <th>Continent</th>\n",
              "      <th>Gold</th>\n",
              "      <th>Silver</th>\n",
              "      <th>Bronze</th>\n",
              "      <th>Total</th>\n",
              "      <th>Population</th>\n",
              "      <th>GDP per capita (current US$)</th>\n",
              "    </tr>\n",
              "  </thead>\n",
              "  <tbody>\n",
              "    <tr>\n",
              "      <th>5</th>\n",
              "      <td>6.0</td>\n",
              "      <td>Netherlands</td>\n",
              "      <td>NED</td>\n",
              "      <td>Europe</td>\n",
              "      <td>15.0</td>\n",
              "      <td>7.0</td>\n",
              "      <td>12.0</td>\n",
              "      <td>34.0</td>\n",
              "      <td>17879488.0</td>\n",
              "      <td>56585.691680</td>\n",
              "    </tr>\n",
              "    <tr>\n",
              "      <th>7</th>\n",
              "      <td>8.0</td>\n",
              "      <td>South Korea</td>\n",
              "      <td>KOR</td>\n",
              "      <td>Asia</td>\n",
              "      <td>13.0</td>\n",
              "      <td>9.0</td>\n",
              "      <td>10.0</td>\n",
              "      <td>32.0</td>\n",
              "      <td>51712619.0</td>\n",
              "      <td>32853.058600</td>\n",
              "    </tr>\n",
              "    <tr>\n",
              "      <th>10</th>\n",
              "      <td>11.0</td>\n",
              "      <td>New Zealand</td>\n",
              "      <td>NZ</td>\n",
              "      <td>Oceania</td>\n",
              "      <td>10.0</td>\n",
              "      <td>7.0</td>\n",
              "      <td>3.0</td>\n",
              "      <td>20.0</td>\n",
              "      <td>5223100.0</td>\n",
              "      <td>46180.284480</td>\n",
              "    </tr>\n",
              "    <tr>\n",
              "      <th>11</th>\n",
              "      <td>12.0</td>\n",
              "      <td>Canada</td>\n",
              "      <td>CAN</td>\n",
              "      <td>North America</td>\n",
              "      <td>9.0</td>\n",
              "      <td>7.0</td>\n",
              "      <td>11.0</td>\n",
              "      <td>27.0</td>\n",
              "      <td>40097761.0</td>\n",
              "      <td>50253.728680</td>\n",
              "    </tr>\n",
              "    <tr>\n",
              "      <th>12</th>\n",
              "      <td>13.0</td>\n",
              "      <td>Uzbekistan</td>\n",
              "      <td>UZB</td>\n",
              "      <td>Asia</td>\n",
              "      <td>8.0</td>\n",
              "      <td>2.0</td>\n",
              "      <td>3.0</td>\n",
              "      <td>13.0</td>\n",
              "      <td>36412350.0</td>\n",
              "      <td>2064.040542</td>\n",
              "    </tr>\n",
              "    <tr>\n",
              "      <th>13</th>\n",
              "      <td>14.0</td>\n",
              "      <td>Hungary</td>\n",
              "      <td>HUN</td>\n",
              "      <td>Europe</td>\n",
              "      <td>6.0</td>\n",
              "      <td>7.0</td>\n",
              "      <td>6.0</td>\n",
              "      <td>19.0</td>\n",
              "      <td>9589872.0</td>\n",
              "      <td>18435.261510</td>\n",
              "    </tr>\n",
              "    <tr>\n",
              "      <th>14</th>\n",
              "      <td>15.0</td>\n",
              "      <td>Spain</td>\n",
              "      <td>SPA</td>\n",
              "      <td>Europe</td>\n",
              "      <td>5.0</td>\n",
              "      <td>4.0</td>\n",
              "      <td>9.0</td>\n",
              "      <td>18.0</td>\n",
              "      <td>48373336.0</td>\n",
              "      <td>29881.232760</td>\n",
              "    </tr>\n",
              "    <tr>\n",
              "      <th>15</th>\n",
              "      <td>16.0</td>\n",
              "      <td>Sweden</td>\n",
              "      <td>SWE</td>\n",
              "      <td>Europe</td>\n",
              "      <td>4.0</td>\n",
              "      <td>4.0</td>\n",
              "      <td>3.0</td>\n",
              "      <td>11.0</td>\n",
              "      <td>10536632.0</td>\n",
              "      <td>55759.954110</td>\n",
              "    </tr>\n",
              "    <tr>\n",
              "      <th>16</th>\n",
              "      <td>17.0</td>\n",
              "      <td>Kenya</td>\n",
              "      <td>KEN</td>\n",
              "      <td>Africa</td>\n",
              "      <td>4.0</td>\n",
              "      <td>2.0</td>\n",
              "      <td>5.0</td>\n",
              "      <td>11.0</td>\n",
              "      <td>55100586.0</td>\n",
              "      <td>2005.037898</td>\n",
              "    </tr>\n",
              "    <tr>\n",
              "      <th>19</th>\n",
              "      <td>20.0</td>\n",
              "      <td>Brazil</td>\n",
              "      <td>BRZ</td>\n",
              "      <td>South America</td>\n",
              "      <td>3.0</td>\n",
              "      <td>7.0</td>\n",
              "      <td>10.0</td>\n",
              "      <td>20.0</td>\n",
              "      <td>216422446.0</td>\n",
              "      <td>8534.605259</td>\n",
              "    </tr>\n",
              "    <tr>\n",
              "      <th>20</th>\n",
              "      <td>21.0</td>\n",
              "      <td>Iran</td>\n",
              "      <td>IRN</td>\n",
              "      <td>Asia</td>\n",
              "      <td>3.0</td>\n",
              "      <td>6.0</td>\n",
              "      <td>3.0</td>\n",
              "      <td>12.0</td>\n",
              "      <td>89172767.0</td>\n",
              "      <td>3855.675365</td>\n",
              "    </tr>\n",
              "    <tr>\n",
              "      <th>21</th>\n",
              "      <td>22.0</td>\n",
              "      <td>Ukraine</td>\n",
              "      <td>UKR</td>\n",
              "      <td>Europe</td>\n",
              "      <td>3.0</td>\n",
              "      <td>5.0</td>\n",
              "      <td>4.0</td>\n",
              "      <td>12.0</td>\n",
              "      <td>37000000.0</td>\n",
              "      <td>4399.675732</td>\n",
              "    </tr>\n",
              "    <tr>\n",
              "      <th>22</th>\n",
              "      <td>23.0</td>\n",
              "      <td>Romania</td>\n",
              "      <td>ROM</td>\n",
              "      <td>Europe</td>\n",
              "      <td>3.0</td>\n",
              "      <td>4.0</td>\n",
              "      <td>2.0</td>\n",
              "      <td>9.0</td>\n",
              "      <td>19056116.0</td>\n",
              "      <td>15012.761320</td>\n",
              "    </tr>\n",
              "    <tr>\n",
              "      <th>23</th>\n",
              "      <td>24.0</td>\n",
              "      <td>Georgia</td>\n",
              "      <td>GEO</td>\n",
              "      <td>Europe</td>\n",
              "      <td>3.0</td>\n",
              "      <td>3.0</td>\n",
              "      <td>1.0</td>\n",
              "      <td>7.0</td>\n",
              "      <td>3760365.0</td>\n",
              "      <td>5795.191456</td>\n",
              "    </tr>\n",
              "    <tr>\n",
              "      <th>28</th>\n",
              "      <td>29.0</td>\n",
              "      <td>Denmark</td>\n",
              "      <td>DEN</td>\n",
              "      <td>Europe</td>\n",
              "      <td>2.0</td>\n",
              "      <td>2.0</td>\n",
              "      <td>5.0</td>\n",
              "      <td>9.0</td>\n",
              "      <td>5946952.0</td>\n",
              "      <td>65091.132150</td>\n",
              "    </tr>\n",
              "    <tr>\n",
              "      <th>29</th>\n",
              "      <td>30.0</td>\n",
              "      <td>Azerbaijan</td>\n",
              "      <td>AZE</td>\n",
              "      <td>Europe</td>\n",
              "      <td>2.0</td>\n",
              "      <td>2.0</td>\n",
              "      <td>3.0</td>\n",
              "      <td>7.0</td>\n",
              "      <td>10112555.0</td>\n",
              "      <td>5873.877509</td>\n",
              "    </tr>\n",
              "    <tr>\n",
              "      <th>30</th>\n",
              "      <td>30.0</td>\n",
              "      <td>Croatia</td>\n",
              "      <td>CRO</td>\n",
              "      <td>Europe</td>\n",
              "      <td>2.0</td>\n",
              "      <td>2.0</td>\n",
              "      <td>3.0</td>\n",
              "      <td>7.0</td>\n",
              "      <td>3853200.0</td>\n",
              "      <td>17535.754640</td>\n",
              "    </tr>\n",
              "    <tr>\n",
              "      <th>40</th>\n",
              "      <td>41.0</td>\n",
              "      <td>Israel</td>\n",
              "      <td>ISR</td>\n",
              "      <td>Asia</td>\n",
              "      <td>1.0</td>\n",
              "      <td>5.0</td>\n",
              "      <td>1.0</td>\n",
              "      <td>7.0</td>\n",
              "      <td>9756700.0</td>\n",
              "      <td>49724.231020</td>\n",
              "    </tr>\n",
              "    <tr>\n",
              "      <th>41</th>\n",
              "      <td>42.0</td>\n",
              "      <td>Poland</td>\n",
              "      <td>POL</td>\n",
              "      <td>Europe</td>\n",
              "      <td>1.0</td>\n",
              "      <td>4.0</td>\n",
              "      <td>5.0</td>\n",
              "      <td>10.0</td>\n",
              "      <td>36685849.0</td>\n",
              "      <td>18082.493960</td>\n",
              "    </tr>\n",
              "    <tr>\n",
              "      <th>42</th>\n",
              "      <td>43.0</td>\n",
              "      <td>Kazakhstan</td>\n",
              "      <td>KAZ</td>\n",
              "      <td>Asia</td>\n",
              "      <td>1.0</td>\n",
              "      <td>3.0</td>\n",
              "      <td>3.0</td>\n",
              "      <td>7.0</td>\n",
              "      <td>19900177.0</td>\n",
              "      <td>10765.231800</td>\n",
              "    </tr>\n",
              "    <tr>\n",
              "      <th>43</th>\n",
              "      <td>44.0</td>\n",
              "      <td>Jamaica</td>\n",
              "      <td>JAM</td>\n",
              "      <td>North America</td>\n",
              "      <td>1.0</td>\n",
              "      <td>3.0</td>\n",
              "      <td>2.0</td>\n",
              "      <td>6.0</td>\n",
              "      <td>2825544.0</td>\n",
              "      <td>5725.686596</td>\n",
              "    </tr>\n",
              "    <tr>\n",
              "      <th>44</th>\n",
              "      <td>44.0</td>\n",
              "      <td>South Africa</td>\n",
              "      <td>SA</td>\n",
              "      <td>Africa</td>\n",
              "      <td>1.0</td>\n",
              "      <td>3.0</td>\n",
              "      <td>2.0</td>\n",
              "      <td>6.0</td>\n",
              "      <td>60414495.0</td>\n",
              "      <td>6509.769746</td>\n",
              "    </tr>\n",
              "    <tr>\n",
              "      <th>45</th>\n",
              "      <td>44.0</td>\n",
              "      <td>Thailand</td>\n",
              "      <td>THA</td>\n",
              "      <td>Asia</td>\n",
              "      <td>1.0</td>\n",
              "      <td>3.0</td>\n",
              "      <td>2.0</td>\n",
              "      <td>6.0</td>\n",
              "      <td>71801279.0</td>\n",
              "      <td>7157.159545</td>\n",
              "    </tr>\n",
              "    <tr>\n",
              "      <th>46</th>\n",
              "      <td>47.0</td>\n",
              "      <td>Ethiopia</td>\n",
              "      <td>ETH</td>\n",
              "      <td>Africa</td>\n",
              "      <td>1.0</td>\n",
              "      <td>3.0</td>\n",
              "      <td>0.0</td>\n",
              "      <td>4.0</td>\n",
              "      <td>126527060.0</td>\n",
              "      <td>1001.075906</td>\n",
              "    </tr>\n",
              "    <tr>\n",
              "      <th>47</th>\n",
              "      <td>48.0</td>\n",
              "      <td>Switzerland</td>\n",
              "      <td>SWI</td>\n",
              "      <td>Europe</td>\n",
              "      <td>1.0</td>\n",
              "      <td>2.0</td>\n",
              "      <td>5.0</td>\n",
              "      <td>8.0</td>\n",
              "      <td>8849852.0</td>\n",
              "      <td>91344.198710</td>\n",
              "    </tr>\n",
              "    <tr>\n",
              "      <th>48</th>\n",
              "      <td>49.0</td>\n",
              "      <td>Ecuador</td>\n",
              "      <td>ECU</td>\n",
              "      <td>South America</td>\n",
              "      <td>1.0</td>\n",
              "      <td>2.0</td>\n",
              "      <td>2.0</td>\n",
              "      <td>5.0</td>\n",
              "      <td>18190484.0</td>\n",
              "      <td>6140.120833</td>\n",
              "    </tr>\n",
              "    <tr>\n",
              "      <th>49</th>\n",
              "      <td>50.0</td>\n",
              "      <td>Portugal</td>\n",
              "      <td>POR</td>\n",
              "      <td>Europe</td>\n",
              "      <td>1.0</td>\n",
              "      <td>2.0</td>\n",
              "      <td>1.0</td>\n",
              "      <td>4.0</td>\n",
              "      <td>10525347.0</td>\n",
              "      <td>24404.953500</td>\n",
              "    </tr>\n",
              "    <tr>\n",
              "      <th>63</th>\n",
              "      <td>64.0</td>\n",
              "      <td>Turkey</td>\n",
              "      <td>TUR</td>\n",
              "      <td>Europe</td>\n",
              "      <td>0.0</td>\n",
              "      <td>3.0</td>\n",
              "      <td>5.0</td>\n",
              "      <td>8.0</td>\n",
              "      <td>85326000.0</td>\n",
              "      <td>10251.530090</td>\n",
              "    </tr>\n",
              "    <tr>\n",
              "      <th>64</th>\n",
              "      <td>65.0</td>\n",
              "      <td>Mexico</td>\n",
              "      <td>MEX</td>\n",
              "      <td>North America</td>\n",
              "      <td>0.0</td>\n",
              "      <td>3.0</td>\n",
              "      <td>2.0</td>\n",
              "      <td>5.0</td>\n",
              "      <td>128455567.0</td>\n",
              "      <td>11019.233600</td>\n",
              "    </tr>\n",
              "    <tr>\n",
              "      <th>65</th>\n",
              "      <td>66.0</td>\n",
              "      <td>Armenia</td>\n",
              "      <td>ARM</td>\n",
              "      <td>Europe</td>\n",
              "      <td>0.0</td>\n",
              "      <td>3.0</td>\n",
              "      <td>1.0</td>\n",
              "      <td>4.0</td>\n",
              "      <td>2777970.0</td>\n",
              "      <td>6008.194534</td>\n",
              "    </tr>\n",
              "    <tr>\n",
              "      <th>66</th>\n",
              "      <td>66.0</td>\n",
              "      <td>Colombia</td>\n",
              "      <td>COL</td>\n",
              "      <td>South America</td>\n",
              "      <td>0.0</td>\n",
              "      <td>3.0</td>\n",
              "      <td>1.0</td>\n",
              "      <td>4.0</td>\n",
              "      <td>52085168.0</td>\n",
              "      <td>6312.888339</td>\n",
              "    </tr>\n",
              "    <tr>\n",
              "      <th>67</th>\n",
              "      <td>68.0</td>\n",
              "      <td>North Korea</td>\n",
              "      <td>PRK</td>\n",
              "      <td>Asia</td>\n",
              "      <td>0.0</td>\n",
              "      <td>2.0</td>\n",
              "      <td>4.0</td>\n",
              "      <td>6.0</td>\n",
              "      <td>26160821.0</td>\n",
              "      <td>1217.000000</td>\n",
              "    </tr>\n",
              "    <tr>\n",
              "      <th>68</th>\n",
              "      <td>68.0</td>\n",
              "      <td>Kyrgyzstan</td>\n",
              "      <td>KGZ</td>\n",
              "      <td>Asia</td>\n",
              "      <td>0.0</td>\n",
              "      <td>2.0</td>\n",
              "      <td>4.0</td>\n",
              "      <td>6.0</td>\n",
              "      <td>7100800.0</td>\n",
              "      <td>1556.723930</td>\n",
              "    </tr>\n",
              "    <tr>\n",
              "      <th>69</th>\n",
              "      <td>70.0</td>\n",
              "      <td>Lithuania</td>\n",
              "      <td>LTU</td>\n",
              "      <td>Europe</td>\n",
              "      <td>0.0</td>\n",
              "      <td>2.0</td>\n",
              "      <td>2.0</td>\n",
              "      <td>4.0</td>\n",
              "      <td>2871897.0</td>\n",
              "      <td>23205.709500</td>\n",
              "    </tr>\n",
              "  </tbody>\n",
              "</table>\n",
              "</div>"
            ],
            "text/plain": [
              "    Rank       Country Country Code      Continent  Gold  Silver  Bronze  \\\n",
              "5    6.0   Netherlands          NED         Europe  15.0     7.0    12.0   \n",
              "7    8.0   South Korea          KOR           Asia  13.0     9.0    10.0   \n",
              "10  11.0   New Zealand           NZ        Oceania  10.0     7.0     3.0   \n",
              "11  12.0        Canada          CAN  North America   9.0     7.0    11.0   \n",
              "12  13.0    Uzbekistan          UZB           Asia   8.0     2.0     3.0   \n",
              "13  14.0       Hungary          HUN         Europe   6.0     7.0     6.0   \n",
              "14  15.0         Spain          SPA         Europe   5.0     4.0     9.0   \n",
              "15  16.0        Sweden          SWE         Europe   4.0     4.0     3.0   \n",
              "16  17.0         Kenya          KEN         Africa   4.0     2.0     5.0   \n",
              "19  20.0        Brazil          BRZ  South America   3.0     7.0    10.0   \n",
              "20  21.0          Iran          IRN           Asia   3.0     6.0     3.0   \n",
              "21  22.0       Ukraine          UKR         Europe   3.0     5.0     4.0   \n",
              "22  23.0       Romania          ROM         Europe   3.0     4.0     2.0   \n",
              "23  24.0       Georgia          GEO         Europe   3.0     3.0     1.0   \n",
              "28  29.0       Denmark          DEN         Europe   2.0     2.0     5.0   \n",
              "29  30.0    Azerbaijan          AZE         Europe   2.0     2.0     3.0   \n",
              "30  30.0       Croatia          CRO         Europe   2.0     2.0     3.0   \n",
              "40  41.0        Israel          ISR           Asia   1.0     5.0     1.0   \n",
              "41  42.0        Poland          POL         Europe   1.0     4.0     5.0   \n",
              "42  43.0    Kazakhstan          KAZ           Asia   1.0     3.0     3.0   \n",
              "43  44.0       Jamaica          JAM  North America   1.0     3.0     2.0   \n",
              "44  44.0  South Africa           SA         Africa   1.0     3.0     2.0   \n",
              "45  44.0      Thailand          THA           Asia   1.0     3.0     2.0   \n",
              "46  47.0      Ethiopia          ETH         Africa   1.0     3.0     0.0   \n",
              "47  48.0   Switzerland          SWI         Europe   1.0     2.0     5.0   \n",
              "48  49.0       Ecuador          ECU  South America   1.0     2.0     2.0   \n",
              "49  50.0      Portugal          POR         Europe   1.0     2.0     1.0   \n",
              "63  64.0        Turkey          TUR         Europe   0.0     3.0     5.0   \n",
              "64  65.0        Mexico          MEX  North America   0.0     3.0     2.0   \n",
              "65  66.0       Armenia          ARM         Europe   0.0     3.0     1.0   \n",
              "66  66.0      Colombia          COL  South America   0.0     3.0     1.0   \n",
              "67  68.0   North Korea          PRK           Asia   0.0     2.0     4.0   \n",
              "68  68.0    Kyrgyzstan          KGZ           Asia   0.0     2.0     4.0   \n",
              "69  70.0     Lithuania          LTU         Europe   0.0     2.0     2.0   \n",
              "\n",
              "    Total   Population  GDP per capita (current US$)  \n",
              "5    34.0   17879488.0                  56585.691680  \n",
              "7    32.0   51712619.0                  32853.058600  \n",
              "10   20.0    5223100.0                  46180.284480  \n",
              "11   27.0   40097761.0                  50253.728680  \n",
              "12   13.0   36412350.0                   2064.040542  \n",
              "13   19.0    9589872.0                  18435.261510  \n",
              "14   18.0   48373336.0                  29881.232760  \n",
              "15   11.0   10536632.0                  55759.954110  \n",
              "16   11.0   55100586.0                   2005.037898  \n",
              "19   20.0  216422446.0                   8534.605259  \n",
              "20   12.0   89172767.0                   3855.675365  \n",
              "21   12.0   37000000.0                   4399.675732  \n",
              "22    9.0   19056116.0                  15012.761320  \n",
              "23    7.0    3760365.0                   5795.191456  \n",
              "28    9.0    5946952.0                  65091.132150  \n",
              "29    7.0   10112555.0                   5873.877509  \n",
              "30    7.0    3853200.0                  17535.754640  \n",
              "40    7.0    9756700.0                  49724.231020  \n",
              "41   10.0   36685849.0                  18082.493960  \n",
              "42    7.0   19900177.0                  10765.231800  \n",
              "43    6.0    2825544.0                   5725.686596  \n",
              "44    6.0   60414495.0                   6509.769746  \n",
              "45    6.0   71801279.0                   7157.159545  \n",
              "46    4.0  126527060.0                   1001.075906  \n",
              "47    8.0    8849852.0                  91344.198710  \n",
              "48    5.0   18190484.0                   6140.120833  \n",
              "49    4.0   10525347.0                  24404.953500  \n",
              "63    8.0   85326000.0                  10251.530090  \n",
              "64    5.0  128455567.0                  11019.233600  \n",
              "65    4.0    2777970.0                   6008.194534  \n",
              "66    4.0   52085168.0                   6312.888339  \n",
              "67    6.0   26160821.0                   1217.000000  \n",
              "68    6.0    7100800.0                   1556.723930  \n",
              "69    4.0    2871897.0                  23205.709500  "
            ]
          },
          "execution_count": 47,
          "metadata": {},
          "output_type": "execute_result"
        }
      ],
      "source": [
        "# filter rows\\instances to retain information with a specific column value between two values\n",
        "olympics_df.where(olympics_df['Silver'].between(2, 10)).dropna()"
      ]
    },
    {
      "cell_type": "code",
      "execution_count": null,
      "metadata": {
        "id": "BHvUxQHT_aTJ"
      },
      "outputs": [
        {
          "data": {
            "application/vnd.microsoft.datawrangler.viewer.v0+json": {
              "columns": [
                {
                  "name": "index",
                  "rawType": "int64",
                  "type": "integer"
                },
                {
                  "name": "Rank",
                  "rawType": "float64",
                  "type": "float"
                },
                {
                  "name": "Country",
                  "rawType": "object",
                  "type": "string"
                },
                {
                  "name": "Country Code",
                  "rawType": "object",
                  "type": "string"
                },
                {
                  "name": "Continent",
                  "rawType": "object",
                  "type": "string"
                },
                {
                  "name": "Gold",
                  "rawType": "float64",
                  "type": "float"
                },
                {
                  "name": "Silver",
                  "rawType": "float64",
                  "type": "float"
                },
                {
                  "name": "Bronze",
                  "rawType": "float64",
                  "type": "float"
                },
                {
                  "name": "Total",
                  "rawType": "float64",
                  "type": "float"
                },
                {
                  "name": "Population",
                  "rawType": "float64",
                  "type": "float"
                },
                {
                  "name": "GDP per capita (current US$)",
                  "rawType": "float64",
                  "type": "float"
                }
              ],
              "conversionMethod": "pd.DataFrame",
              "ref": "cac65073-632c-4a58-8713-c53d3709a695",
              "rows": [
                [
                  "44",
                  "44.0",
                  "South Africa",
                  "SA",
                  "Africa",
                  "1.0",
                  "3.0",
                  "2.0",
                  "6.0",
                  "60414495.0",
                  "6509.769746"
                ]
              ],
              "shape": {
                "columns": 10,
                "rows": 1
              }
            },
            "text/html": [
              "<div>\n",
              "<style scoped>\n",
              "    .dataframe tbody tr th:only-of-type {\n",
              "        vertical-align: middle;\n",
              "    }\n",
              "\n",
              "    .dataframe tbody tr th {\n",
              "        vertical-align: top;\n",
              "    }\n",
              "\n",
              "    .dataframe thead th {\n",
              "        text-align: right;\n",
              "    }\n",
              "</style>\n",
              "<table border=\"1\" class=\"dataframe\">\n",
              "  <thead>\n",
              "    <tr style=\"text-align: right;\">\n",
              "      <th></th>\n",
              "      <th>Rank</th>\n",
              "      <th>Country</th>\n",
              "      <th>Country Code</th>\n",
              "      <th>Continent</th>\n",
              "      <th>Gold</th>\n",
              "      <th>Silver</th>\n",
              "      <th>Bronze</th>\n",
              "      <th>Total</th>\n",
              "      <th>Population</th>\n",
              "      <th>GDP per capita (current US$)</th>\n",
              "    </tr>\n",
              "  </thead>\n",
              "  <tbody>\n",
              "    <tr>\n",
              "      <th>44</th>\n",
              "      <td>44.0</td>\n",
              "      <td>South Africa</td>\n",
              "      <td>SA</td>\n",
              "      <td>Africa</td>\n",
              "      <td>1.0</td>\n",
              "      <td>3.0</td>\n",
              "      <td>2.0</td>\n",
              "      <td>6.0</td>\n",
              "      <td>60414495.0</td>\n",
              "      <td>6509.769746</td>\n",
              "    </tr>\n",
              "  </tbody>\n",
              "</table>\n",
              "</div>"
            ],
            "text/plain": [
              "    Rank       Country Country Code Continent  Gold  Silver  Bronze  Total  \\\n",
              "44  44.0  South Africa           SA    Africa   1.0     3.0     2.0    6.0   \n",
              "\n",
              "    Population  GDP per capita (current US$)  \n",
              "44  60414495.0                   6509.769746  "
            ]
          },
          "execution_count": 50,
          "metadata": {},
          "output_type": "execute_result"
        }
      ],
      "source": [
        "# filter rows\\instances to retain information with a specific column containing a specific string\n",
        "olympics_df.where(olympics_df['Country'].str.contains('South Africa')).dropna()"
      ]
    },
    {
      "cell_type": "markdown",
      "metadata": {
        "id": "LNEV-seEEYyv"
      },
      "source": [
        "**Perform operations or apply methods**"
      ]
    },
    {
      "cell_type": "code",
      "execution_count": null,
      "metadata": {
        "id": "szhlaljWb2Dz"
      },
      "outputs": [
        {
          "data": {
            "text/plain": [
              "91"
            ]
          },
          "execution_count": 51,
          "metadata": {},
          "output_type": "execute_result"
        }
      ],
      "source": [
        "#How many rows are in the table?\n",
        "olympics_df.shape[0]"
      ]
    },
    {
      "cell_type": "code",
      "execution_count": null,
      "metadata": {
        "id": "ofW2yL5cEpxs"
      },
      "outputs": [
        {
          "data": {
            "text/plain": [
              "Rank                                                                         4123\n",
              "Country                         United StatesChinaJapanAustraliaFranceNetherla...\n",
              "Country Code                    USCHNJPNAUSFRANEDGBGKORITAGERNZCANUZBHUNSPASWE...\n",
              "Continent                       North AmericaAsiaAsiaOceaniaEuropeEuropeEurope...\n",
              "Gold                                                                          328\n",
              "Silver                                                                        327\n",
              "Bronze                                                                        384\n",
              "Total                                                                        1039\n",
              "Population                                                           6187849757.0\n",
              "GDP per capita (current US$)                                       1927572.167322\n",
              "dtype: object"
            ]
          },
          "execution_count": 52,
          "metadata": {},
          "output_type": "execute_result"
        }
      ],
      "source": [
        "# Calculate the sum of each column\n",
        "olympics_df.sum()"
      ]
    },
    {
      "cell_type": "code",
      "execution_count": null,
      "metadata": {
        "id": "OOrI-U7so2iT"
      },
      "outputs": [
        {
          "data": {
            "text/plain": [
              "0     40\n",
              "1     40\n",
              "2     20\n",
              "3     18\n",
              "4     16\n",
              "      ..\n",
              "86     0\n",
              "87     0\n",
              "88     0\n",
              "89     0\n",
              "90     0\n",
              "Name: Gold, Length: 91, dtype: int64"
            ]
          },
          "execution_count": 57,
          "metadata": {},
          "output_type": "execute_result"
        }
      ],
      "source": [
        "# We can also perform operations on an array\n",
        "olympics_df['Gold']"
      ]
    },
    {
      "cell_type": "code",
      "execution_count": null,
      "metadata": {
        "id": "EtfKSYyxpQqj"
      },
      "outputs": [
        {
          "data": {
            "text/plain": [
              "328"
            ]
          },
          "execution_count": 53,
          "metadata": {},
          "output_type": "execute_result"
        }
      ],
      "source": [
        "#Determine total number of gold medals\n",
        "\n",
        "olympics_df['Gold'].sum()"
      ]
    },
    {
      "cell_type": "code",
      "execution_count": null,
      "metadata": {
        "id": "65BXgWoypaqV"
      },
      "outputs": [
        {
          "name": "stderr",
          "output_type": "stream",
          "text": [
            "C:\\Users\\User\\AppData\\Local\\Temp\\ipykernel_21600\\4221454037.py:2: FutureWarning: The default value of numeric_only in DataFrame.mean is deprecated. In a future version, it will default to False. In addition, specifying 'numeric_only=None' is deprecated. Select only valid columns or specify the value of numeric_only to silence this warning.\n",
            "  olympics_df.mean()\n"
          ]
        },
        {
          "data": {
            "text/plain": [
              "Rank                            4.530769e+01\n",
              "Gold                            3.604396e+00\n",
              "Silver                          3.593407e+00\n",
              "Bronze                          4.219780e+00\n",
              "Total                           1.141758e+01\n",
              "Population                      6.952640e+07\n",
              "GDP per capita (current US$)    2.165811e+04\n",
              "dtype: float64"
            ]
          },
          "execution_count": 56,
          "metadata": {},
          "output_type": "execute_result"
        }
      ],
      "source": [
        "#Determine average number of medals\n",
        "olympics_df.mean()"
      ]
    },
    {
      "cell_type": "markdown",
      "metadata": {
        "id": "h1eoZqN8d7i1"
      },
      "source": [
        "**Class Exercise**: Determine whether the average number of gold medals won per country is higher for Europe or for North American countries."
      ]
    },
    {
      "cell_type": "code",
      "execution_count": null,
      "metadata": {
        "id": "qj_g2_dSd_82"
      },
      "outputs": [
        {
          "name": "stdout",
          "output_type": "stream",
          "text": [
            "4.666666666666667 :North American countries have more gold medals than European countries\n"
          ]
        },
        {
          "name": "stderr",
          "output_type": "stream",
          "text": [
            "C:\\Users\\User\\AppData\\Local\\Temp\\ipykernel_21600\\952826900.py:2: FutureWarning: The default value of numeric_only in DataFrame.mean is deprecated. In a future version, it will default to False. In addition, specifying 'numeric_only=None' is deprecated. Select only valid columns or specify the value of numeric_only to silence this warning.\n",
            "  EU_medals = olympics_df.where(olympics_df['Continent'].isin(['Europe'])).mean()['Gold']\n",
            "C:\\Users\\User\\AppData\\Local\\Temp\\ipykernel_21600\\952826900.py:3: FutureWarning: The default value of numeric_only in DataFrame.mean is deprecated. In a future version, it will default to False. In addition, specifying 'numeric_only=None' is deprecated. Select only valid columns or specify the value of numeric_only to silence this warning.\n",
            "  north_america_avg_gold = olympics_df.where(olympics_df['Continent'].isin(['North America'])).mean()['Gold']\n"
          ]
        }
      ],
      "source": [
        "# Calculate the average number of gold medals for European and North American countries\n",
        "EU_medals = olympics_df.where(olympics_df['Continent'].isin(['Europe'])).mean()['Gold']\n",
        "north_america_avg_gold = olympics_df.where(olympics_df['Continent'].isin(['North America'])).mean()['Gold']\n",
        "if EU_medals > north_america_avg_gold:\n",
        "    print(f\"{EU_medals} :European countries have more gold medals than North American countries\")\n",
        "else:\n",
        "    print(f\"{north_america_avg_gold} :North American countries have more gold medals than European countries\")\n"
      ]
    }
  ],
  "metadata": {
    "colab": {
      "provenance": []
    },
    "kernelspec": {
      "display_name": "Python 3",
      "language": "python",
      "name": "python3"
    },
    "language_info": {
      "codemirror_mode": {
        "name": "ipython",
        "version": 3
      },
      "file_extension": ".py",
      "mimetype": "text/x-python",
      "name": "python",
      "nbconvert_exporter": "python",
      "pygments_lexer": "ipython3",
      "version": "3.11.5"
    }
  },
  "nbformat": 4,
  "nbformat_minor": 0
}
